{
 "cells": [
  {
   "cell_type": "code",
   "execution_count": 1,
   "metadata": {
    "collapsed": true
   },
   "outputs": [],
   "source": [
    "import pandas as pd\n",
    "import numpy as np\n",
    "import re \n",
    "import matplotlib.pyplot as plt\n",
    "import seaborn\n",
    "import scipy\n",
    "%matplotlib inline"
   ]
  },
  {
   "cell_type": "code",
   "execution_count": 2,
   "metadata": {
    "collapsed": true
   },
   "outputs": [],
   "source": [
    "import datetime"
   ]
  },
  {
   "cell_type": "code",
   "execution_count": 3,
   "metadata": {
    "collapsed": false
   },
   "outputs": [],
   "source": [
    "results = pd.DataFrame({\"LocalScore\": [1.36406], \"KaggleScore\": [1.36788], \n",
    "                        \"Date\": [datetime.datetime.now().strftime('%m/%d/%y')],\n",
    "                       })\n",
    "results = results[[\"KaggleScore\", \"LocalScore\", \"Date\"]]"
   ]
  },
  {
   "cell_type": "code",
   "execution_count": 4,
   "metadata": {
    "collapsed": false
   },
   "outputs": [],
   "source": [
    "results[\"Description\"] = \"Logistic regression using initial features\""
   ]
  },
  {
   "cell_type": "code",
   "execution_count": 5,
   "metadata": {
    "collapsed": false
   },
   "outputs": [
    {
     "data": {
      "text/html": [
       "<div>\n",
       "<table border=\"1\" class=\"dataframe\">\n",
       "  <thead>\n",
       "    <tr style=\"text-align: right;\">\n",
       "      <th></th>\n",
       "      <th>KaggleScore</th>\n",
       "      <th>LocalScore</th>\n",
       "      <th>Date</th>\n",
       "      <th>Description</th>\n",
       "    </tr>\n",
       "  </thead>\n",
       "  <tbody>\n",
       "    <tr>\n",
       "      <th>0</th>\n",
       "      <td>1.36788</td>\n",
       "      <td>1.36406</td>\n",
       "      <td>11/30/15</td>\n",
       "      <td>Logistic regression using initial features</td>\n",
       "    </tr>\n",
       "  </tbody>\n",
       "</table>\n",
       "</div>"
      ],
      "text/plain": [
       "   KaggleScore  LocalScore      Date  \\\n",
       "0      1.36788     1.36406  11/30/15   \n",
       "\n",
       "                                  Description  \n",
       "0  Logistic regression using initial features  "
      ]
     },
     "execution_count": 5,
     "metadata": {},
     "output_type": "execute_result"
    }
   ],
   "source": [
    "results"
   ]
  },
  {
   "cell_type": "code",
   "execution_count": 6,
   "metadata": {
    "collapsed": false
   },
   "outputs": [],
   "source": [
    "results = results.append({\"LocalScore\": 1.64493, \"KaggleScore\": \"0\", \n",
    "                        \"Date\": datetime.datetime.now().strftime('%m/%d/%y'),\n",
    "               \"Description\": \"Random Forest with 100 estimators\"\n",
    "                       }, ignore_index = True)"
   ]
  },
  {
   "cell_type": "code",
   "execution_count": 7,
   "metadata": {
    "collapsed": false
   },
   "outputs": [],
   "source": [
    "results = results.append({\"LocalScore\": 4.25146, \"KaggleScore\": \"0\", \n",
    "                        \"Date\": datetime.datetime.now().strftime('%m/%d/%y'),\n",
    "               \"Description\": \"Random Forest with 10 estimators\"\n",
    "                       }, ignore_index = True)"
   ]
  },
  {
   "cell_type": "code",
   "execution_count": 8,
   "metadata": {
    "collapsed": false
   },
   "outputs": [],
   "source": [
    "results = results.append({\"LocalScore\": 1.44762, \"KaggleScore\": \"0\", \n",
    "                        \"Date\": datetime.datetime.now().strftime('%m/%d/%y'),\n",
    "               \"Description\": \"Random Forest with 200 estimators\"\n",
    "                       }, ignore_index = True)"
   ]
  },
  {
   "cell_type": "code",
   "execution_count": 9,
   "metadata": {
    "collapsed": true
   },
   "outputs": [],
   "source": [
    "results = results.append({\"LocalScore\": 1.37421, \"KaggleScore\": \"0\", \n",
    "                        \"Date\": datetime.datetime.now().strftime('%m/%d/%y'),\n",
    "               \"Description\": \"Random Forest with 300 estimators\"\n",
    "                       }, ignore_index = True)"
   ]
  },
  {
   "cell_type": "code",
   "execution_count": 10,
   "metadata": {
    "collapsed": true
   },
   "outputs": [],
   "source": [
    "results = results.append({\"LocalScore\": 1.31995, \"KaggleScore\": 1.34620, \n",
    "                        \"Date\": datetime.datetime.now().strftime('%m/%d/%y'),\n",
    "               \"Description\": \"Random Forest with 400 estimators\"\n",
    "                       }, ignore_index = True)"
   ]
  },
  {
   "cell_type": "code",
   "execution_count": 11,
   "metadata": {
    "collapsed": false
   },
   "outputs": [
    {
     "data": {
      "text/html": [
       "<div>\n",
       "<table border=\"1\" class=\"dataframe\">\n",
       "  <thead>\n",
       "    <tr style=\"text-align: right;\">\n",
       "      <th></th>\n",
       "      <th>KaggleScore</th>\n",
       "      <th>LocalScore</th>\n",
       "      <th>Date</th>\n",
       "      <th>Description</th>\n",
       "    </tr>\n",
       "  </thead>\n",
       "  <tbody>\n",
       "    <tr>\n",
       "      <th>0</th>\n",
       "      <td>1.36788</td>\n",
       "      <td>1.36406</td>\n",
       "      <td>11/30/15</td>\n",
       "      <td>Logistic regression using initial features</td>\n",
       "    </tr>\n",
       "    <tr>\n",
       "      <th>1</th>\n",
       "      <td>0</td>\n",
       "      <td>1.64493</td>\n",
       "      <td>11/30/15</td>\n",
       "      <td>Random Forest with 100 estimators</td>\n",
       "    </tr>\n",
       "    <tr>\n",
       "      <th>2</th>\n",
       "      <td>0</td>\n",
       "      <td>4.25146</td>\n",
       "      <td>11/30/15</td>\n",
       "      <td>Random Forest with 10 estimators</td>\n",
       "    </tr>\n",
       "    <tr>\n",
       "      <th>3</th>\n",
       "      <td>0</td>\n",
       "      <td>1.44762</td>\n",
       "      <td>11/30/15</td>\n",
       "      <td>Random Forest with 200 estimators</td>\n",
       "    </tr>\n",
       "    <tr>\n",
       "      <th>4</th>\n",
       "      <td>0</td>\n",
       "      <td>1.37421</td>\n",
       "      <td>11/30/15</td>\n",
       "      <td>Random Forest with 300 estimators</td>\n",
       "    </tr>\n",
       "    <tr>\n",
       "      <th>5</th>\n",
       "      <td>1.3462</td>\n",
       "      <td>1.31995</td>\n",
       "      <td>11/30/15</td>\n",
       "      <td>Random Forest with 400 estimators</td>\n",
       "    </tr>\n",
       "  </tbody>\n",
       "</table>\n",
       "</div>"
      ],
      "text/plain": [
       "  KaggleScore  LocalScore      Date  \\\n",
       "0     1.36788     1.36406  11/30/15   \n",
       "1           0     1.64493  11/30/15   \n",
       "2           0     4.25146  11/30/15   \n",
       "3           0     1.44762  11/30/15   \n",
       "4           0     1.37421  11/30/15   \n",
       "5      1.3462     1.31995  11/30/15   \n",
       "\n",
       "                                  Description  \n",
       "0  Logistic regression using initial features  \n",
       "1           Random Forest with 100 estimators  \n",
       "2            Random Forest with 10 estimators  \n",
       "3           Random Forest with 200 estimators  \n",
       "4           Random Forest with 300 estimators  \n",
       "5           Random Forest with 400 estimators  "
      ]
     },
     "execution_count": 11,
     "metadata": {},
     "output_type": "execute_result"
    }
   ],
   "source": [
    "results"
   ]
  },
  {
   "cell_type": "code",
   "execution_count": 12,
   "metadata": {
    "collapsed": false
   },
   "outputs": [],
   "source": [
    "results = results.append({\"LocalScore\": 30.04107, \"KaggleScore\": 0, \n",
    "                        \"Date\": datetime.datetime.now().strftime('%m/%d/%y'),\n",
    "               \"Description\": \"Gaussian Naive Bayes\"\n",
    "                       }, ignore_index = True)"
   ]
  },
  {
   "cell_type": "code",
   "execution_count": 13,
   "metadata": {
    "collapsed": true
   },
   "outputs": [],
   "source": [
    "results = results.append({\"LocalScore\": 1.37899, \"KaggleScore\": 1.38825, \n",
    "                        \"Date\": datetime.datetime.now().strftime('%m/%d/%y'),\n",
    "               \"Description\": \"Bernoulli Naive Bayes\"\n",
    "                       }, ignore_index = True)"
   ]
  },
  {
   "cell_type": "code",
   "execution_count": 14,
   "metadata": {
    "collapsed": false
   },
   "outputs": [],
   "source": [
    "results[\"Rank\"] = 240\n",
    "results.ix[1,'Rank'] = 0\n",
    "results.ix[2,'Rank'] = 0\n",
    "results.ix[3,'Rank'] = 0\n",
    "results.ix[4,'Rank'] = 0\n",
    "results.ix[5,'Rank'] = 230\n",
    "results.ix[6,'Rank'] = 0\n",
    "results.ix[7,'Rank'] = 240"
   ]
  },
  {
   "cell_type": "code",
   "execution_count": 15,
   "metadata": {
    "collapsed": true
   },
   "outputs": [],
   "source": [
    "results = results.append({\"LocalScore\": 6.31217, \"KaggleScore\": 0, \n",
    "                        \"Date\": datetime.datetime.now().strftime('%m/%d/%y'),\n",
    "               \"Description\": \"K-Neighbors\", \"Rank\": 0\n",
    "                       }, ignore_index = True)"
   ]
  },
  {
   "cell_type": "code",
   "execution_count": 16,
   "metadata": {
    "collapsed": true
   },
   "outputs": [],
   "source": [
    "results = results.append({\"LocalScore\": 4.46558, \"KaggleScore\": 0, \n",
    "                        \"Date\": datetime.datetime.now().strftime('%m/%d/%y'),\n",
    "               \"Description\": \"LinearSVC with decision_function\", \"Rank\": 0\n",
    "                       }, ignore_index = True)"
   ]
  },
  {
   "cell_type": "code",
   "execution_count": 17,
   "metadata": {
    "collapsed": false
   },
   "outputs": [
    {
     "data": {
      "text/html": [
       "<div>\n",
       "<table border=\"1\" class=\"dataframe\">\n",
       "  <thead>\n",
       "    <tr style=\"text-align: right;\">\n",
       "      <th></th>\n",
       "      <th>KaggleScore</th>\n",
       "      <th>LocalScore</th>\n",
       "      <th>Date</th>\n",
       "      <th>Description</th>\n",
       "      <th>Rank</th>\n",
       "    </tr>\n",
       "  </thead>\n",
       "  <tbody>\n",
       "    <tr>\n",
       "      <th>0</th>\n",
       "      <td>1.36788</td>\n",
       "      <td>1.36406</td>\n",
       "      <td>11/30/15</td>\n",
       "      <td>Logistic regression using initial features</td>\n",
       "      <td>240</td>\n",
       "    </tr>\n",
       "    <tr>\n",
       "      <th>1</th>\n",
       "      <td>0</td>\n",
       "      <td>1.64493</td>\n",
       "      <td>11/30/15</td>\n",
       "      <td>Random Forest with 100 estimators</td>\n",
       "      <td>0</td>\n",
       "    </tr>\n",
       "    <tr>\n",
       "      <th>2</th>\n",
       "      <td>0</td>\n",
       "      <td>4.25146</td>\n",
       "      <td>11/30/15</td>\n",
       "      <td>Random Forest with 10 estimators</td>\n",
       "      <td>0</td>\n",
       "    </tr>\n",
       "    <tr>\n",
       "      <th>3</th>\n",
       "      <td>0</td>\n",
       "      <td>1.44762</td>\n",
       "      <td>11/30/15</td>\n",
       "      <td>Random Forest with 200 estimators</td>\n",
       "      <td>0</td>\n",
       "    </tr>\n",
       "    <tr>\n",
       "      <th>4</th>\n",
       "      <td>0</td>\n",
       "      <td>1.37421</td>\n",
       "      <td>11/30/15</td>\n",
       "      <td>Random Forest with 300 estimators</td>\n",
       "      <td>0</td>\n",
       "    </tr>\n",
       "    <tr>\n",
       "      <th>5</th>\n",
       "      <td>1.3462</td>\n",
       "      <td>1.31995</td>\n",
       "      <td>11/30/15</td>\n",
       "      <td>Random Forest with 400 estimators</td>\n",
       "      <td>230</td>\n",
       "    </tr>\n",
       "    <tr>\n",
       "      <th>6</th>\n",
       "      <td>0</td>\n",
       "      <td>30.04107</td>\n",
       "      <td>11/30/15</td>\n",
       "      <td>Gaussian Naive Bayes</td>\n",
       "      <td>0</td>\n",
       "    </tr>\n",
       "    <tr>\n",
       "      <th>7</th>\n",
       "      <td>1.38825</td>\n",
       "      <td>1.37899</td>\n",
       "      <td>11/30/15</td>\n",
       "      <td>Bernoulli Naive Bayes</td>\n",
       "      <td>240</td>\n",
       "    </tr>\n",
       "    <tr>\n",
       "      <th>8</th>\n",
       "      <td>0</td>\n",
       "      <td>6.31217</td>\n",
       "      <td>11/30/15</td>\n",
       "      <td>K-Neighbors</td>\n",
       "      <td>0</td>\n",
       "    </tr>\n",
       "    <tr>\n",
       "      <th>9</th>\n",
       "      <td>0</td>\n",
       "      <td>4.46558</td>\n",
       "      <td>11/30/15</td>\n",
       "      <td>LinearSVC with decision_function</td>\n",
       "      <td>0</td>\n",
       "    </tr>\n",
       "  </tbody>\n",
       "</table>\n",
       "</div>"
      ],
      "text/plain": [
       "  KaggleScore  LocalScore      Date  \\\n",
       "0     1.36788     1.36406  11/30/15   \n",
       "1           0     1.64493  11/30/15   \n",
       "2           0     4.25146  11/30/15   \n",
       "3           0     1.44762  11/30/15   \n",
       "4           0     1.37421  11/30/15   \n",
       "5      1.3462     1.31995  11/30/15   \n",
       "6           0    30.04107  11/30/15   \n",
       "7     1.38825     1.37899  11/30/15   \n",
       "8           0     6.31217  11/30/15   \n",
       "9           0     4.46558  11/30/15   \n",
       "\n",
       "                                  Description  Rank  \n",
       "0  Logistic regression using initial features   240  \n",
       "1           Random Forest with 100 estimators     0  \n",
       "2            Random Forest with 10 estimators     0  \n",
       "3           Random Forest with 200 estimators     0  \n",
       "4           Random Forest with 300 estimators     0  \n",
       "5           Random Forest with 400 estimators   230  \n",
       "6                        Gaussian Naive Bayes     0  \n",
       "7                       Bernoulli Naive Bayes   240  \n",
       "8                                 K-Neighbors     0  \n",
       "9            LinearSVC with decision_function     0  "
      ]
     },
     "execution_count": 17,
     "metadata": {},
     "output_type": "execute_result"
    }
   ],
   "source": [
    "results"
   ]
  },
  {
   "cell_type": "code",
   "execution_count": 18,
   "metadata": {
    "collapsed": true
   },
   "outputs": [],
   "source": [
    "results = results.append({\"LocalScore\": 2.06826, \"KaggleScore\": 0, \n",
    "                        \"Date\": datetime.datetime.now().strftime('%m/%d/%y'),\n",
    "               \"Description\": \"ExtraTrees\", \"Rank\": 0\n",
    "                       }, ignore_index = True)"
   ]
  },
  {
   "cell_type": "code",
   "execution_count": 19,
   "metadata": {
    "collapsed": true
   },
   "outputs": [],
   "source": [
    "results = results.append({\"LocalScore\": 1.29012, \"KaggleScore\": 1.30906, \n",
    "                        \"Date\": datetime.datetime.now().strftime('%m/%d/%y'),\n",
    "               \"Description\": \"Random Trees with 2 max features\", \"Rank\": 232\n",
    "                       }, ignore_index = True)"
   ]
  },
  {
   "cell_type": "code",
   "execution_count": 20,
   "metadata": {
    "collapsed": false
   },
   "outputs": [],
   "source": [
    "results.KaggleScore = results.KaggleScore.astype(float)"
   ]
  },
  {
   "cell_type": "code",
   "execution_count": 21,
   "metadata": {
    "collapsed": false
   },
   "outputs": [],
   "source": [
    "results = results.sort_values(by=\"KaggleScore\")"
   ]
  },
  {
   "cell_type": "code",
   "execution_count": 22,
   "metadata": {
    "collapsed": false
   },
   "outputs": [],
   "source": [
    "posted_results = results[results.KaggleScore > 0]"
   ]
  },
  {
   "cell_type": "code",
   "execution_count": 23,
   "metadata": {
    "collapsed": false
   },
   "outputs": [
    {
     "data": {
      "text/html": [
       "<div>\n",
       "<table border=\"1\" class=\"dataframe\">\n",
       "  <thead>\n",
       "    <tr style=\"text-align: right;\">\n",
       "      <th></th>\n",
       "      <th>KaggleScore</th>\n",
       "      <th>LocalScore</th>\n",
       "      <th>Date</th>\n",
       "      <th>Description</th>\n",
       "      <th>Rank</th>\n",
       "    </tr>\n",
       "  </thead>\n",
       "  <tbody>\n",
       "    <tr>\n",
       "      <th>11</th>\n",
       "      <td>1.30906</td>\n",
       "      <td>1.29012</td>\n",
       "      <td>11/30/15</td>\n",
       "      <td>Random Trees with 2 max features</td>\n",
       "      <td>232</td>\n",
       "    </tr>\n",
       "    <tr>\n",
       "      <th>5</th>\n",
       "      <td>1.34620</td>\n",
       "      <td>1.31995</td>\n",
       "      <td>11/30/15</td>\n",
       "      <td>Random Forest with 400 estimators</td>\n",
       "      <td>230</td>\n",
       "    </tr>\n",
       "    <tr>\n",
       "      <th>0</th>\n",
       "      <td>1.36788</td>\n",
       "      <td>1.36406</td>\n",
       "      <td>11/30/15</td>\n",
       "      <td>Logistic regression using initial features</td>\n",
       "      <td>240</td>\n",
       "    </tr>\n",
       "    <tr>\n",
       "      <th>7</th>\n",
       "      <td>1.38825</td>\n",
       "      <td>1.37899</td>\n",
       "      <td>11/30/15</td>\n",
       "      <td>Bernoulli Naive Bayes</td>\n",
       "      <td>240</td>\n",
       "    </tr>\n",
       "  </tbody>\n",
       "</table>\n",
       "</div>"
      ],
      "text/plain": [
       "    KaggleScore  LocalScore      Date  \\\n",
       "11      1.30906     1.29012  11/30/15   \n",
       "5       1.34620     1.31995  11/30/15   \n",
       "0       1.36788     1.36406  11/30/15   \n",
       "7       1.38825     1.37899  11/30/15   \n",
       "\n",
       "                                   Description  Rank  \n",
       "11            Random Trees with 2 max features   232  \n",
       "5            Random Forest with 400 estimators   230  \n",
       "0   Logistic regression using initial features   240  \n",
       "7                        Bernoulli Naive Bayes   240  "
      ]
     },
     "execution_count": 23,
     "metadata": {},
     "output_type": "execute_result"
    }
   ],
   "source": [
    "posted_results"
   ]
  },
  {
   "cell_type": "code",
   "execution_count": 24,
   "metadata": {
    "collapsed": true
   },
   "outputs": [],
   "source": [
    "results.ix[0,'Date'] = \"11/19/15\"\n",
    "results.ix[1,'Date'] = \"11/19/15\"\n",
    "results.ix[2,'Date'] = \"11/19/15\"\n",
    "results.ix[3,'Date'] = \"11/19/15\"\n",
    "results.ix[4,'Date'] = \"11/19/15\"\n",
    "results.ix[5,'Date'] = \"11/19/15\"\n",
    "results.ix[6,'Date'] = \"11/20/15\"\n",
    "results.ix[7,'Date'] = \"11/20/15\"\n",
    "results.ix[8,'Date'] = \"11/20/15\"\n",
    "results.ix[9,'Date'] = \"11/20/15\"\n",
    "results.ix[10,'Date'] = \"11/20/15\"\n",
    "results.ix[11,'Date'] = \"11/20/15\""
   ]
  },
  {
   "cell_type": "code",
   "execution_count": 25,
   "metadata": {
    "collapsed": false
   },
   "outputs": [],
   "source": [
    "results = results.append({\"LocalScore\": 0.93294, \"KaggleScore\": 0.94074, \n",
    "                        \"Date\": datetime.datetime.now().strftime('%m/%d/%y'),\n",
    "               \"Description\": \"First XGBoost run, 74 rounds\", \"Rank\": 176\n",
    "                       }, ignore_index = True)"
   ]
  },
  {
   "cell_type": "code",
   "execution_count": 32,
   "metadata": {
    "collapsed": false
   },
   "outputs": [
    {
     "data": {
      "text/plain": [
       "0.00000    8\n",
       "1.38825    1\n",
       "1.34620    1\n",
       "0.95666    1\n",
       "1.36788    1\n",
       "0.94074    1\n",
       "1.30906    1\n",
       "Name: KaggleScore, dtype: int64"
      ]
     },
     "execution_count": 32,
     "metadata": {},
     "output_type": "execute_result"
    }
   ],
   "source": [
    "results.KaggleScore.value_counts()"
   ]
  },
  {
   "cell_type": "code",
   "execution_count": 27,
   "metadata": {
    "collapsed": true
   },
   "outputs": [],
   "source": [
    "results.ix[0,'Date'] = \"11/19/15\"\n",
    "results.ix[1,'Date'] = \"11/19/15\"\n",
    "results.ix[2,'Date'] = \"11/19/15\"\n",
    "results.ix[3,'Date'] = \"11/19/15\"\n",
    "results.ix[4,'Date'] = \"11/19/15\"\n",
    "results.ix[5,'Date'] = \"11/19/15\"\n",
    "results.ix[6,'Date'] = \"11/20/15\"\n",
    "results.ix[7,'Date'] = \"11/20/15\"\n",
    "results.ix[8,'Date'] = \"11/20/15\"\n",
    "results.ix[9,'Date'] = \"11/20/15\"\n",
    "results.ix[10,'Date'] = \"11/20/15\"\n",
    "results.ix[11,'Date'] = \"11/20/15\"\n",
    "results.ix[12,'Date'] = \"11/23/15\"\n",
    "results.ix[13,'Date'] = \"11/30/15\"\n",
    "results.ix[14,'Date'] = \"11/30/15\""
   ]
  },
  {
   "cell_type": "code",
   "execution_count": 33,
   "metadata": {
    "collapsed": true
   },
   "outputs": [],
   "source": [
    "results = results.append({\"LocalScore\": 0.92459, \"KaggleScore\": 0.94110, \n",
    "                        \"Date\": datetime.datetime.now().strftime('%m/%d/%y'),\n",
    "               \"Description\": \"First Fineline attempt using XGB\", \"Rank\": 204\n",
    "                       }, ignore_index = True)"
   ]
  },
  {
   "cell_type": "code",
   "execution_count": 34,
   "metadata": {
    "collapsed": false
   },
   "outputs": [
    {
     "data": {
      "text/html": [
       "<div>\n",
       "<table border=\"1\" class=\"dataframe\">\n",
       "  <thead>\n",
       "    <tr style=\"text-align: right;\">\n",
       "      <th></th>\n",
       "      <th>KaggleScore</th>\n",
       "      <th>LocalScore</th>\n",
       "      <th>Date</th>\n",
       "      <th>Description</th>\n",
       "      <th>Rank</th>\n",
       "    </tr>\n",
       "  </thead>\n",
       "  <tbody>\n",
       "    <tr>\n",
       "      <th>0</th>\n",
       "      <td>0.00000</td>\n",
       "      <td>1.64493</td>\n",
       "      <td>11/19/15</td>\n",
       "      <td>Random Forest with 100 estimators</td>\n",
       "      <td>0</td>\n",
       "    </tr>\n",
       "    <tr>\n",
       "      <th>1</th>\n",
       "      <td>0.00000</td>\n",
       "      <td>4.25146</td>\n",
       "      <td>11/19/15</td>\n",
       "      <td>Random Forest with 10 estimators</td>\n",
       "      <td>0</td>\n",
       "    </tr>\n",
       "    <tr>\n",
       "      <th>2</th>\n",
       "      <td>0.00000</td>\n",
       "      <td>1.44762</td>\n",
       "      <td>11/19/15</td>\n",
       "      <td>Random Forest with 200 estimators</td>\n",
       "      <td>0</td>\n",
       "    </tr>\n",
       "    <tr>\n",
       "      <th>3</th>\n",
       "      <td>0.00000</td>\n",
       "      <td>1.37421</td>\n",
       "      <td>11/19/15</td>\n",
       "      <td>Random Forest with 300 estimators</td>\n",
       "      <td>0</td>\n",
       "    </tr>\n",
       "    <tr>\n",
       "      <th>4</th>\n",
       "      <td>0.00000</td>\n",
       "      <td>30.04107</td>\n",
       "      <td>11/19/15</td>\n",
       "      <td>Gaussian Naive Bayes</td>\n",
       "      <td>0</td>\n",
       "    </tr>\n",
       "    <tr>\n",
       "      <th>5</th>\n",
       "      <td>0.00000</td>\n",
       "      <td>6.31217</td>\n",
       "      <td>11/19/15</td>\n",
       "      <td>K-Neighbors</td>\n",
       "      <td>0</td>\n",
       "    </tr>\n",
       "    <tr>\n",
       "      <th>6</th>\n",
       "      <td>0.00000</td>\n",
       "      <td>4.46558</td>\n",
       "      <td>11/20/15</td>\n",
       "      <td>LinearSVC with decision_function</td>\n",
       "      <td>0</td>\n",
       "    </tr>\n",
       "    <tr>\n",
       "      <th>7</th>\n",
       "      <td>0.00000</td>\n",
       "      <td>2.06826</td>\n",
       "      <td>11/20/15</td>\n",
       "      <td>ExtraTrees</td>\n",
       "      <td>0</td>\n",
       "    </tr>\n",
       "    <tr>\n",
       "      <th>8</th>\n",
       "      <td>1.30906</td>\n",
       "      <td>1.29012</td>\n",
       "      <td>11/20/15</td>\n",
       "      <td>Random Trees with 2 max features</td>\n",
       "      <td>232</td>\n",
       "    </tr>\n",
       "    <tr>\n",
       "      <th>9</th>\n",
       "      <td>1.34620</td>\n",
       "      <td>1.31995</td>\n",
       "      <td>11/20/15</td>\n",
       "      <td>Random Forest with 400 estimators</td>\n",
       "      <td>230</td>\n",
       "    </tr>\n",
       "    <tr>\n",
       "      <th>10</th>\n",
       "      <td>1.36788</td>\n",
       "      <td>1.36406</td>\n",
       "      <td>11/20/15</td>\n",
       "      <td>Logistic regression using initial features</td>\n",
       "      <td>240</td>\n",
       "    </tr>\n",
       "    <tr>\n",
       "      <th>11</th>\n",
       "      <td>1.38825</td>\n",
       "      <td>1.37899</td>\n",
       "      <td>11/20/15</td>\n",
       "      <td>Bernoulli Naive Bayes</td>\n",
       "      <td>240</td>\n",
       "    </tr>\n",
       "    <tr>\n",
       "      <th>12</th>\n",
       "      <td>0.94074</td>\n",
       "      <td>0.93294</td>\n",
       "      <td>11/23/15</td>\n",
       "      <td>First XGBoost run, 74 rounds</td>\n",
       "      <td>176</td>\n",
       "    </tr>\n",
       "    <tr>\n",
       "      <th>13</th>\n",
       "      <td>0.95666</td>\n",
       "      <td>0.94902</td>\n",
       "      <td>11/30/15</td>\n",
       "      <td>First Fineline attempt using XGB</td>\n",
       "      <td>210</td>\n",
       "    </tr>\n",
       "    <tr>\n",
       "      <th>14</th>\n",
       "      <td>0.94110</td>\n",
       "      <td>0.92459</td>\n",
       "      <td>11/30/15</td>\n",
       "      <td>First Fineline attempt using XGB</td>\n",
       "      <td>204</td>\n",
       "    </tr>\n",
       "  </tbody>\n",
       "</table>\n",
       "</div>"
      ],
      "text/plain": [
       "    KaggleScore  LocalScore      Date  \\\n",
       "0       0.00000     1.64493  11/19/15   \n",
       "1       0.00000     4.25146  11/19/15   \n",
       "2       0.00000     1.44762  11/19/15   \n",
       "3       0.00000     1.37421  11/19/15   \n",
       "4       0.00000    30.04107  11/19/15   \n",
       "5       0.00000     6.31217  11/19/15   \n",
       "6       0.00000     4.46558  11/20/15   \n",
       "7       0.00000     2.06826  11/20/15   \n",
       "8       1.30906     1.29012  11/20/15   \n",
       "9       1.34620     1.31995  11/20/15   \n",
       "10      1.36788     1.36406  11/20/15   \n",
       "11      1.38825     1.37899  11/20/15   \n",
       "12      0.94074     0.93294  11/23/15   \n",
       "13      0.95666     0.94902  11/30/15   \n",
       "14      0.94110     0.92459  11/30/15   \n",
       "\n",
       "                                   Description  Rank  \n",
       "0            Random Forest with 100 estimators     0  \n",
       "1             Random Forest with 10 estimators     0  \n",
       "2            Random Forest with 200 estimators     0  \n",
       "3            Random Forest with 300 estimators     0  \n",
       "4                         Gaussian Naive Bayes     0  \n",
       "5                                  K-Neighbors     0  \n",
       "6             LinearSVC with decision_function     0  \n",
       "7                                   ExtraTrees     0  \n",
       "8             Random Trees with 2 max features   232  \n",
       "9            Random Forest with 400 estimators   230  \n",
       "10  Logistic regression using initial features   240  \n",
       "11                       Bernoulli Naive Bayes   240  \n",
       "12                First XGBoost run, 74 rounds   176  \n",
       "13            First Fineline attempt using XGB   210  \n",
       "14            First Fineline attempt using XGB   204  "
      ]
     },
     "execution_count": 34,
     "metadata": {},
     "output_type": "execute_result"
    }
   ],
   "source": [
    "results"
   ]
  },
  {
   "cell_type": "code",
   "execution_count": null,
   "metadata": {
    "collapsed": true
   },
   "outputs": [],
   "source": []
  }
 ],
 "metadata": {
  "kernelspec": {
   "display_name": "Python 3",
   "language": "python",
   "name": "python3"
  },
  "language_info": {
   "codemirror_mode": {
    "name": "ipython",
    "version": 3
   },
   "file_extension": ".py",
   "mimetype": "text/x-python",
   "name": "python",
   "nbconvert_exporter": "python",
   "pygments_lexer": "ipython3",
   "version": "3.5.0"
  }
 },
 "nbformat": 4,
 "nbformat_minor": 0
}
