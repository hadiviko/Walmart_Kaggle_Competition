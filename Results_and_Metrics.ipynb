{
 "cells": [
  {
   "cell_type": "code",
   "execution_count": 1,
   "metadata": {
    "collapsed": true
   },
   "outputs": [],
   "source": [
    "import pandas as pd\n",
    "import numpy as np\n",
    "import re \n",
    "import matplotlib.pyplot as plt\n",
    "import seaborn\n",
    "import scipy\n",
    "%matplotlib inline"
   ]
  },
  {
   "cell_type": "code",
   "execution_count": 4,
   "metadata": {
    "collapsed": true
   },
   "outputs": [],
   "source": [
    "import datetime"
   ]
  },
  {
   "cell_type": "code",
   "execution_count": 34,
   "metadata": {
    "collapsed": false
   },
   "outputs": [],
   "source": [
    "results = pd.DataFrame({\"LocalScore\": [1.36406], \"KaggleScore\": [1.36788], \n",
    "                        \"Date\": [datetime.datetime.now().strftime('%m/%d/%y')],\n",
    "                       })\n",
    "results = results[[\"KaggleScore\", \"LocalScore\", \"Date\"]]"
   ]
  },
  {
   "cell_type": "code",
   "execution_count": 39,
   "metadata": {
    "collapsed": false
   },
   "outputs": [
    {
     "name": "stderr",
     "output_type": "stream",
     "text": [
      "/Users/MattKasle/Matt/.direnv/python-3.5.0/lib/python3.5/site-packages/ipykernel/__main__.py:1: SettingWithCopyWarning: \n",
      "A value is trying to be set on a copy of a slice from a DataFrame.\n",
      "Try using .loc[row_indexer,col_indexer] = value instead\n",
      "\n",
      "See the caveats in the documentation: http://pandas.pydata.org/pandas-docs/stable/indexing.html#indexing-view-versus-copy\n",
      "  if __name__ == '__main__':\n"
     ]
    }
   ],
   "source": [
    "results[\"Description\"] = \"Logistic regression using initial features\""
   ]
  },
  {
   "cell_type": "code",
   "execution_count": 59,
   "metadata": {
    "collapsed": false
   },
   "outputs": [
    {
     "data": {
      "text/html": [
       "<div>\n",
       "<table border=\"1\" class=\"dataframe\">\n",
       "  <thead>\n",
       "    <tr style=\"text-align: right;\">\n",
       "      <th></th>\n",
       "      <th>KaggleScore</th>\n",
       "      <th>LocalScore</th>\n",
       "      <th>Date</th>\n",
       "      <th>Description</th>\n",
       "    </tr>\n",
       "  </thead>\n",
       "  <tbody>\n",
       "    <tr>\n",
       "      <th>0</th>\n",
       "      <td>1.36788</td>\n",
       "      <td>1.36406</td>\n",
       "      <td>11/19/15</td>\n",
       "      <td>Logistic regression using initial features</td>\n",
       "    </tr>\n",
       "    <tr>\n",
       "      <th>1</th>\n",
       "      <td>0</td>\n",
       "      <td>1.64493</td>\n",
       "      <td>11/19/15</td>\n",
       "      <td>Random Forest with 100 estimators</td>\n",
       "    </tr>\n",
       "    <tr>\n",
       "      <th>2</th>\n",
       "      <td>0</td>\n",
       "      <td>4.25146</td>\n",
       "      <td>11/19/15</td>\n",
       "      <td>Random Forest with 10 estimators</td>\n",
       "    </tr>\n",
       "    <tr>\n",
       "      <th>3</th>\n",
       "      <td>0</td>\n",
       "      <td>1.44762</td>\n",
       "      <td>11/19/15</td>\n",
       "      <td>Random Forest with 200 estimators</td>\n",
       "    </tr>\n",
       "    <tr>\n",
       "      <th>4</th>\n",
       "      <td>0</td>\n",
       "      <td>1.37421</td>\n",
       "      <td>11/19/15</td>\n",
       "      <td>Random Forest with 300 estimators</td>\n",
       "    </tr>\n",
       "  </tbody>\n",
       "</table>\n",
       "</div>"
      ],
      "text/plain": [
       "  KaggleScore  LocalScore      Date  \\\n",
       "0     1.36788     1.36406  11/19/15   \n",
       "1           0     1.64493  11/19/15   \n",
       "2           0     4.25146  11/19/15   \n",
       "3           0     1.44762  11/19/15   \n",
       "4           0     1.37421  11/19/15   \n",
       "\n",
       "                                  Description  \n",
       "0  Logistic regression using initial features  \n",
       "1           Random Forest with 100 estimators  \n",
       "2            Random Forest with 10 estimators  \n",
       "3           Random Forest with 200 estimators  \n",
       "4           Random Forest with 300 estimators  "
      ]
     },
     "execution_count": 59,
     "metadata": {},
     "output_type": "execute_result"
    }
   ],
   "source": [
    "results"
   ]
  },
  {
   "cell_type": "code",
   "execution_count": 52,
   "metadata": {
    "collapsed": false
   },
   "outputs": [],
   "source": [
    "results = results.append({\"LocalScore\": 1.64493, \"KaggleScore\": \"0\", \n",
    "                        \"Date\": datetime.datetime.now().strftime('%m/%d/%y'),\n",
    "               \"Description\": \"Random Forest with 100 estimators\"\n",
    "                       }, ignore_index = True)"
   ]
  },
  {
   "cell_type": "code",
   "execution_count": 54,
   "metadata": {
    "collapsed": false
   },
   "outputs": [],
   "source": [
    "results = results.append({\"LocalScore\": 4.25146, \"KaggleScore\": \"0\", \n",
    "                        \"Date\": datetime.datetime.now().strftime('%m/%d/%y'),\n",
    "               \"Description\": \"Random Forest with 10 estimators\"\n",
    "                       }, ignore_index = True)"
   ]
  },
  {
   "cell_type": "code",
   "execution_count": 57,
   "metadata": {
    "collapsed": false
   },
   "outputs": [],
   "source": [
    "results = results.append({\"LocalScore\": 1.44762, \"KaggleScore\": \"0\", \n",
    "                        \"Date\": datetime.datetime.now().strftime('%m/%d/%y'),\n",
    "               \"Description\": \"Random Forest with 200 estimators\"\n",
    "                       }, ignore_index = True)"
   ]
  },
  {
   "cell_type": "code",
   "execution_count": 58,
   "metadata": {
    "collapsed": true
   },
   "outputs": [],
   "source": [
    "results = results.append({\"LocalScore\": 1.37421, \"KaggleScore\": \"0\", \n",
    "                        \"Date\": datetime.datetime.now().strftime('%m/%d/%y'),\n",
    "               \"Description\": \"Random Forest with 300 estimators\"\n",
    "                       }, ignore_index = True)"
   ]
  },
  {
   "cell_type": "code",
   "execution_count": 60,
   "metadata": {
    "collapsed": true
   },
   "outputs": [],
   "source": [
    "results = results.append({\"LocalScore\": 1.31995, \"KaggleScore\": 1.34620, \n",
    "                        \"Date\": datetime.datetime.now().strftime('%m/%d/%y'),\n",
    "               \"Description\": \"Random Forest with 400 estimators\"\n",
    "                       }, ignore_index = True)"
   ]
  },
  {
   "cell_type": "code",
   "execution_count": 61,
   "metadata": {
    "collapsed": false
   },
   "outputs": [
    {
     "data": {
      "text/html": [
       "<div>\n",
       "<table border=\"1\" class=\"dataframe\">\n",
       "  <thead>\n",
       "    <tr style=\"text-align: right;\">\n",
       "      <th></th>\n",
       "      <th>KaggleScore</th>\n",
       "      <th>LocalScore</th>\n",
       "      <th>Date</th>\n",
       "      <th>Description</th>\n",
       "    </tr>\n",
       "  </thead>\n",
       "  <tbody>\n",
       "    <tr>\n",
       "      <th>0</th>\n",
       "      <td>1.36788</td>\n",
       "      <td>1.36406</td>\n",
       "      <td>11/19/15</td>\n",
       "      <td>Logistic regression using initial features</td>\n",
       "    </tr>\n",
       "    <tr>\n",
       "      <th>1</th>\n",
       "      <td>0</td>\n",
       "      <td>1.64493</td>\n",
       "      <td>11/19/15</td>\n",
       "      <td>Random Forest with 100 estimators</td>\n",
       "    </tr>\n",
       "    <tr>\n",
       "      <th>2</th>\n",
       "      <td>0</td>\n",
       "      <td>4.25146</td>\n",
       "      <td>11/19/15</td>\n",
       "      <td>Random Forest with 10 estimators</td>\n",
       "    </tr>\n",
       "    <tr>\n",
       "      <th>3</th>\n",
       "      <td>0</td>\n",
       "      <td>1.44762</td>\n",
       "      <td>11/19/15</td>\n",
       "      <td>Random Forest with 200 estimators</td>\n",
       "    </tr>\n",
       "    <tr>\n",
       "      <th>4</th>\n",
       "      <td>0</td>\n",
       "      <td>1.37421</td>\n",
       "      <td>11/19/15</td>\n",
       "      <td>Random Forest with 300 estimators</td>\n",
       "    </tr>\n",
       "    <tr>\n",
       "      <th>5</th>\n",
       "      <td>1.3462</td>\n",
       "      <td>1.31995</td>\n",
       "      <td>11/19/15</td>\n",
       "      <td>Random Forest with 400 estimators</td>\n",
       "    </tr>\n",
       "  </tbody>\n",
       "</table>\n",
       "</div>"
      ],
      "text/plain": [
       "  KaggleScore  LocalScore      Date  \\\n",
       "0     1.36788     1.36406  11/19/15   \n",
       "1           0     1.64493  11/19/15   \n",
       "2           0     4.25146  11/19/15   \n",
       "3           0     1.44762  11/19/15   \n",
       "4           0     1.37421  11/19/15   \n",
       "5      1.3462     1.31995  11/19/15   \n",
       "\n",
       "                                  Description  \n",
       "0  Logistic regression using initial features  \n",
       "1           Random Forest with 100 estimators  \n",
       "2            Random Forest with 10 estimators  \n",
       "3           Random Forest with 200 estimators  \n",
       "4           Random Forest with 300 estimators  \n",
       "5           Random Forest with 400 estimators  "
      ]
     },
     "execution_count": 61,
     "metadata": {},
     "output_type": "execute_result"
    }
   ],
   "source": [
    "results"
   ]
  },
  {
   "cell_type": "code",
   "execution_count": null,
   "metadata": {
    "collapsed": true
   },
   "outputs": [],
   "source": []
  }
 ],
 "metadata": {
  "kernelspec": {
   "display_name": "Python 3",
   "language": "python",
   "name": "python3"
  },
  "language_info": {
   "codemirror_mode": {
    "name": "ipython",
    "version": 3
   },
   "file_extension": ".py",
   "mimetype": "text/x-python",
   "name": "python",
   "nbconvert_exporter": "python",
   "pygments_lexer": "ipython3",
   "version": "3.5.0"
  }
 },
 "nbformat": 4,
 "nbformat_minor": 0
}
