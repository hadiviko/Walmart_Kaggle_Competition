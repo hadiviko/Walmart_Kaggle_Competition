{
 "cells": [
  {
   "cell_type": "code",
   "execution_count": 56,
   "metadata": {
    "collapsed": true
   },
   "outputs": [],
   "source": [
    "import pandas as pd\n",
    "import numpy as np\n",
    "import re \n",
    "import matplotlib.pyplot as plt\n",
    "import seaborn\n",
    "import scipy\n",
    "%matplotlib inline"
   ]
  },
  {
   "cell_type": "code",
   "execution_count": 57,
   "metadata": {
    "collapsed": true
   },
   "outputs": [],
   "source": [
    "import datetime"
   ]
  },
  {
   "cell_type": "code",
   "execution_count": 58,
   "metadata": {
    "collapsed": false
   },
   "outputs": [],
   "source": [
    "results = pd.DataFrame({\"LocalScore\": [1.36406], \"KaggleScore\": [1.36788], \n",
    "                        \"Date\": [datetime.datetime.now().strftime('%m/%d/%y')],\n",
    "                       })\n",
    "results = results[[\"KaggleScore\", \"LocalScore\", \"Date\"]]"
   ]
  },
  {
   "cell_type": "code",
   "execution_count": 59,
   "metadata": {
    "collapsed": false
   },
   "outputs": [],
   "source": [
    "results[\"Description\"] = \"Logistic regression using initial features\""
   ]
  },
  {
   "cell_type": "code",
   "execution_count": 60,
   "metadata": {
    "collapsed": false
   },
   "outputs": [
    {
     "data": {
      "text/html": [
       "<div>\n",
       "<table border=\"1\" class=\"dataframe\">\n",
       "  <thead>\n",
       "    <tr style=\"text-align: right;\">\n",
       "      <th></th>\n",
       "      <th>KaggleScore</th>\n",
       "      <th>LocalScore</th>\n",
       "      <th>Date</th>\n",
       "      <th>Description</th>\n",
       "    </tr>\n",
       "  </thead>\n",
       "  <tbody>\n",
       "    <tr>\n",
       "      <th>0</th>\n",
       "      <td>1.36788</td>\n",
       "      <td>1.36406</td>\n",
       "      <td>11/20/15</td>\n",
       "      <td>Logistic regression using initial features</td>\n",
       "    </tr>\n",
       "  </tbody>\n",
       "</table>\n",
       "</div>"
      ],
      "text/plain": [
       "   KaggleScore  LocalScore      Date  \\\n",
       "0      1.36788     1.36406  11/20/15   \n",
       "\n",
       "                                  Description  \n",
       "0  Logistic regression using initial features  "
      ]
     },
     "execution_count": 60,
     "metadata": {},
     "output_type": "execute_result"
    }
   ],
   "source": [
    "results"
   ]
  },
  {
   "cell_type": "code",
   "execution_count": 61,
   "metadata": {
    "collapsed": false
   },
   "outputs": [],
   "source": [
    "results = results.append({\"LocalScore\": 1.64493, \"KaggleScore\": \"0\", \n",
    "                        \"Date\": datetime.datetime.now().strftime('%m/%d/%y'),\n",
    "               \"Description\": \"Random Forest with 100 estimators\"\n",
    "                       }, ignore_index = True)"
   ]
  },
  {
   "cell_type": "code",
   "execution_count": 62,
   "metadata": {
    "collapsed": false
   },
   "outputs": [],
   "source": [
    "results = results.append({\"LocalScore\": 4.25146, \"KaggleScore\": \"0\", \n",
    "                        \"Date\": datetime.datetime.now().strftime('%m/%d/%y'),\n",
    "               \"Description\": \"Random Forest with 10 estimators\"\n",
    "                       }, ignore_index = True)"
   ]
  },
  {
   "cell_type": "code",
   "execution_count": 63,
   "metadata": {
    "collapsed": false
   },
   "outputs": [],
   "source": [
    "results = results.append({\"LocalScore\": 1.44762, \"KaggleScore\": \"0\", \n",
    "                        \"Date\": datetime.datetime.now().strftime('%m/%d/%y'),\n",
    "               \"Description\": \"Random Forest with 200 estimators\"\n",
    "                       }, ignore_index = True)"
   ]
  },
  {
   "cell_type": "code",
   "execution_count": 64,
   "metadata": {
    "collapsed": true
   },
   "outputs": [],
   "source": [
    "results = results.append({\"LocalScore\": 1.37421, \"KaggleScore\": \"0\", \n",
    "                        \"Date\": datetime.datetime.now().strftime('%m/%d/%y'),\n",
    "               \"Description\": \"Random Forest with 300 estimators\"\n",
    "                       }, ignore_index = True)"
   ]
  },
  {
   "cell_type": "code",
   "execution_count": 65,
   "metadata": {
    "collapsed": true
   },
   "outputs": [],
   "source": [
    "results = results.append({\"LocalScore\": 1.31995, \"KaggleScore\": 1.34620, \n",
    "                        \"Date\": datetime.datetime.now().strftime('%m/%d/%y'),\n",
    "               \"Description\": \"Random Forest with 400 estimators\"\n",
    "                       }, ignore_index = True)"
   ]
  },
  {
   "cell_type": "code",
   "execution_count": 66,
   "metadata": {
    "collapsed": false
   },
   "outputs": [
    {
     "data": {
      "text/html": [
       "<div>\n",
       "<table border=\"1\" class=\"dataframe\">\n",
       "  <thead>\n",
       "    <tr style=\"text-align: right;\">\n",
       "      <th></th>\n",
       "      <th>KaggleScore</th>\n",
       "      <th>LocalScore</th>\n",
       "      <th>Date</th>\n",
       "      <th>Description</th>\n",
       "    </tr>\n",
       "  </thead>\n",
       "  <tbody>\n",
       "    <tr>\n",
       "      <th>0</th>\n",
       "      <td>1.36788</td>\n",
       "      <td>1.36406</td>\n",
       "      <td>11/20/15</td>\n",
       "      <td>Logistic regression using initial features</td>\n",
       "    </tr>\n",
       "    <tr>\n",
       "      <th>1</th>\n",
       "      <td>0</td>\n",
       "      <td>1.64493</td>\n",
       "      <td>11/20/15</td>\n",
       "      <td>Random Forest with 100 estimators</td>\n",
       "    </tr>\n",
       "    <tr>\n",
       "      <th>2</th>\n",
       "      <td>0</td>\n",
       "      <td>4.25146</td>\n",
       "      <td>11/20/15</td>\n",
       "      <td>Random Forest with 10 estimators</td>\n",
       "    </tr>\n",
       "    <tr>\n",
       "      <th>3</th>\n",
       "      <td>0</td>\n",
       "      <td>1.44762</td>\n",
       "      <td>11/20/15</td>\n",
       "      <td>Random Forest with 200 estimators</td>\n",
       "    </tr>\n",
       "    <tr>\n",
       "      <th>4</th>\n",
       "      <td>0</td>\n",
       "      <td>1.37421</td>\n",
       "      <td>11/20/15</td>\n",
       "      <td>Random Forest with 300 estimators</td>\n",
       "    </tr>\n",
       "    <tr>\n",
       "      <th>5</th>\n",
       "      <td>1.3462</td>\n",
       "      <td>1.31995</td>\n",
       "      <td>11/20/15</td>\n",
       "      <td>Random Forest with 400 estimators</td>\n",
       "    </tr>\n",
       "  </tbody>\n",
       "</table>\n",
       "</div>"
      ],
      "text/plain": [
       "  KaggleScore  LocalScore      Date  \\\n",
       "0     1.36788     1.36406  11/20/15   \n",
       "1           0     1.64493  11/20/15   \n",
       "2           0     4.25146  11/20/15   \n",
       "3           0     1.44762  11/20/15   \n",
       "4           0     1.37421  11/20/15   \n",
       "5      1.3462     1.31995  11/20/15   \n",
       "\n",
       "                                  Description  \n",
       "0  Logistic regression using initial features  \n",
       "1           Random Forest with 100 estimators  \n",
       "2            Random Forest with 10 estimators  \n",
       "3           Random Forest with 200 estimators  \n",
       "4           Random Forest with 300 estimators  \n",
       "5           Random Forest with 400 estimators  "
      ]
     },
     "execution_count": 66,
     "metadata": {},
     "output_type": "execute_result"
    }
   ],
   "source": [
    "results"
   ]
  },
  {
   "cell_type": "code",
   "execution_count": 67,
   "metadata": {
    "collapsed": false
   },
   "outputs": [],
   "source": [
    "results = results.append({\"LocalScore\": 30.04107, \"KaggleScore\": 0, \n",
    "                        \"Date\": datetime.datetime.now().strftime('%m/%d/%y'),\n",
    "               \"Description\": \"Gaussian Naive Bayes\"\n",
    "                       }, ignore_index = True)"
   ]
  },
  {
   "cell_type": "code",
   "execution_count": 68,
   "metadata": {
    "collapsed": true
   },
   "outputs": [],
   "source": [
    "results = results.append({\"LocalScore\": 1.37899, \"KaggleScore\": 1.38825, \n",
    "                        \"Date\": datetime.datetime.now().strftime('%m/%d/%y'),\n",
    "               \"Description\": \"Bernoulli Naive Bayes\"\n",
    "                       }, ignore_index = True)"
   ]
  },
  {
   "cell_type": "code",
   "execution_count": 69,
   "metadata": {
    "collapsed": false
   },
   "outputs": [],
   "source": [
    "results[\"Rank\"] = 240\n",
    "results.ix[1,'Rank'] = 0\n",
    "results.ix[2,'Rank'] = 0\n",
    "results.ix[3,'Rank'] = 0\n",
    "results.ix[4,'Rank'] = 0\n",
    "results.ix[5,'Rank'] = 230\n",
    "results.ix[6,'Rank'] = 0\n",
    "results.ix[7,'Rank'] = 240"
   ]
  },
  {
   "cell_type": "code",
   "execution_count": 70,
   "metadata": {
    "collapsed": true
   },
   "outputs": [],
   "source": [
    "results = results.append({\"LocalScore\": 6.31217, \"KaggleScore\": 0, \n",
    "                        \"Date\": datetime.datetime.now().strftime('%m/%d/%y'),\n",
    "               \"Description\": \"K-Neighbors\", \"Rank\": 0\n",
    "                       }, ignore_index = True)"
   ]
  },
  {
   "cell_type": "code",
   "execution_count": 71,
   "metadata": {
    "collapsed": true
   },
   "outputs": [],
   "source": [
    "results.ix[0,'Date'] = \"11/19/15\"\n",
    "results.ix[1,'Date'] = \"11/19/15\"\n",
    "results.ix[2,'Date'] = \"11/19/15\"\n",
    "results.ix[3,'Date'] = \"11/19/15\"\n",
    "results.ix[4,'Date'] = \"11/19/15\"\n",
    "results.ix[5,'Date'] = \"11/19/15\""
   ]
  },
  {
   "cell_type": "code",
   "execution_count": 72,
   "metadata": {
    "collapsed": false
   },
   "outputs": [
    {
     "data": {
      "text/html": [
       "<div>\n",
       "<table border=\"1\" class=\"dataframe\">\n",
       "  <thead>\n",
       "    <tr style=\"text-align: right;\">\n",
       "      <th></th>\n",
       "      <th>KaggleScore</th>\n",
       "      <th>LocalScore</th>\n",
       "      <th>Date</th>\n",
       "      <th>Description</th>\n",
       "      <th>Rank</th>\n",
       "    </tr>\n",
       "  </thead>\n",
       "  <tbody>\n",
       "    <tr>\n",
       "      <th>0</th>\n",
       "      <td>1.36788</td>\n",
       "      <td>1.36406</td>\n",
       "      <td>11/19/15</td>\n",
       "      <td>Logistic regression using initial features</td>\n",
       "      <td>240</td>\n",
       "    </tr>\n",
       "    <tr>\n",
       "      <th>1</th>\n",
       "      <td>0</td>\n",
       "      <td>1.64493</td>\n",
       "      <td>11/19/15</td>\n",
       "      <td>Random Forest with 100 estimators</td>\n",
       "      <td>0</td>\n",
       "    </tr>\n",
       "    <tr>\n",
       "      <th>2</th>\n",
       "      <td>0</td>\n",
       "      <td>4.25146</td>\n",
       "      <td>11/19/15</td>\n",
       "      <td>Random Forest with 10 estimators</td>\n",
       "      <td>0</td>\n",
       "    </tr>\n",
       "    <tr>\n",
       "      <th>3</th>\n",
       "      <td>0</td>\n",
       "      <td>1.44762</td>\n",
       "      <td>11/19/15</td>\n",
       "      <td>Random Forest with 200 estimators</td>\n",
       "      <td>0</td>\n",
       "    </tr>\n",
       "    <tr>\n",
       "      <th>4</th>\n",
       "      <td>0</td>\n",
       "      <td>1.37421</td>\n",
       "      <td>11/19/15</td>\n",
       "      <td>Random Forest with 300 estimators</td>\n",
       "      <td>0</td>\n",
       "    </tr>\n",
       "    <tr>\n",
       "      <th>5</th>\n",
       "      <td>1.3462</td>\n",
       "      <td>1.31995</td>\n",
       "      <td>11/19/15</td>\n",
       "      <td>Random Forest with 400 estimators</td>\n",
       "      <td>230</td>\n",
       "    </tr>\n",
       "    <tr>\n",
       "      <th>6</th>\n",
       "      <td>0</td>\n",
       "      <td>30.04107</td>\n",
       "      <td>11/20/15</td>\n",
       "      <td>Gaussian Naive Bayes</td>\n",
       "      <td>0</td>\n",
       "    </tr>\n",
       "    <tr>\n",
       "      <th>7</th>\n",
       "      <td>1.38825</td>\n",
       "      <td>1.37899</td>\n",
       "      <td>11/20/15</td>\n",
       "      <td>Bernoulli Naive Bayes</td>\n",
       "      <td>240</td>\n",
       "    </tr>\n",
       "    <tr>\n",
       "      <th>8</th>\n",
       "      <td>0</td>\n",
       "      <td>6.31217</td>\n",
       "      <td>11/20/15</td>\n",
       "      <td>K-Neighbors</td>\n",
       "      <td>0</td>\n",
       "    </tr>\n",
       "  </tbody>\n",
       "</table>\n",
       "</div>"
      ],
      "text/plain": [
       "  KaggleScore  LocalScore      Date  \\\n",
       "0     1.36788     1.36406  11/19/15   \n",
       "1           0     1.64493  11/19/15   \n",
       "2           0     4.25146  11/19/15   \n",
       "3           0     1.44762  11/19/15   \n",
       "4           0     1.37421  11/19/15   \n",
       "5      1.3462     1.31995  11/19/15   \n",
       "6           0    30.04107  11/20/15   \n",
       "7     1.38825     1.37899  11/20/15   \n",
       "8           0     6.31217  11/20/15   \n",
       "\n",
       "                                  Description  Rank  \n",
       "0  Logistic regression using initial features   240  \n",
       "1           Random Forest with 100 estimators     0  \n",
       "2            Random Forest with 10 estimators     0  \n",
       "3           Random Forest with 200 estimators     0  \n",
       "4           Random Forest with 300 estimators     0  \n",
       "5           Random Forest with 400 estimators   230  \n",
       "6                        Gaussian Naive Bayes     0  \n",
       "7                       Bernoulli Naive Bayes   240  \n",
       "8                                 K-Neighbors     0  "
      ]
     },
     "execution_count": 72,
     "metadata": {},
     "output_type": "execute_result"
    }
   ],
   "source": [
    "results"
   ]
  },
  {
   "cell_type": "code",
   "execution_count": 73,
   "metadata": {
    "collapsed": true
   },
   "outputs": [],
   "source": [
    "results = results.append({\"LocalScore\": 4.46558, \"KaggleScore\": 0, \n",
    "                        \"Date\": datetime.datetime.now().strftime('%m/%d/%y'),\n",
    "               \"Description\": \"LinearSVC with decision_function\", \"Rank\": 0\n",
    "                       }, ignore_index = True)"
   ]
  },
  {
   "cell_type": "code",
   "execution_count": 74,
   "metadata": {
    "collapsed": false
   },
   "outputs": [
    {
     "data": {
      "text/html": [
       "<div>\n",
       "<table border=\"1\" class=\"dataframe\">\n",
       "  <thead>\n",
       "    <tr style=\"text-align: right;\">\n",
       "      <th></th>\n",
       "      <th>KaggleScore</th>\n",
       "      <th>LocalScore</th>\n",
       "      <th>Date</th>\n",
       "      <th>Description</th>\n",
       "      <th>Rank</th>\n",
       "    </tr>\n",
       "  </thead>\n",
       "  <tbody>\n",
       "    <tr>\n",
       "      <th>0</th>\n",
       "      <td>1.36788</td>\n",
       "      <td>1.36406</td>\n",
       "      <td>11/19/15</td>\n",
       "      <td>Logistic regression using initial features</td>\n",
       "      <td>240</td>\n",
       "    </tr>\n",
       "    <tr>\n",
       "      <th>1</th>\n",
       "      <td>0</td>\n",
       "      <td>1.64493</td>\n",
       "      <td>11/19/15</td>\n",
       "      <td>Random Forest with 100 estimators</td>\n",
       "      <td>0</td>\n",
       "    </tr>\n",
       "    <tr>\n",
       "      <th>2</th>\n",
       "      <td>0</td>\n",
       "      <td>4.25146</td>\n",
       "      <td>11/19/15</td>\n",
       "      <td>Random Forest with 10 estimators</td>\n",
       "      <td>0</td>\n",
       "    </tr>\n",
       "    <tr>\n",
       "      <th>3</th>\n",
       "      <td>0</td>\n",
       "      <td>1.44762</td>\n",
       "      <td>11/19/15</td>\n",
       "      <td>Random Forest with 200 estimators</td>\n",
       "      <td>0</td>\n",
       "    </tr>\n",
       "    <tr>\n",
       "      <th>4</th>\n",
       "      <td>0</td>\n",
       "      <td>1.37421</td>\n",
       "      <td>11/19/15</td>\n",
       "      <td>Random Forest with 300 estimators</td>\n",
       "      <td>0</td>\n",
       "    </tr>\n",
       "    <tr>\n",
       "      <th>5</th>\n",
       "      <td>1.3462</td>\n",
       "      <td>1.31995</td>\n",
       "      <td>11/19/15</td>\n",
       "      <td>Random Forest with 400 estimators</td>\n",
       "      <td>230</td>\n",
       "    </tr>\n",
       "    <tr>\n",
       "      <th>6</th>\n",
       "      <td>0</td>\n",
       "      <td>30.04107</td>\n",
       "      <td>11/20/15</td>\n",
       "      <td>Gaussian Naive Bayes</td>\n",
       "      <td>0</td>\n",
       "    </tr>\n",
       "    <tr>\n",
       "      <th>7</th>\n",
       "      <td>1.38825</td>\n",
       "      <td>1.37899</td>\n",
       "      <td>11/20/15</td>\n",
       "      <td>Bernoulli Naive Bayes</td>\n",
       "      <td>240</td>\n",
       "    </tr>\n",
       "    <tr>\n",
       "      <th>8</th>\n",
       "      <td>0</td>\n",
       "      <td>6.31217</td>\n",
       "      <td>11/20/15</td>\n",
       "      <td>K-Neighbors</td>\n",
       "      <td>0</td>\n",
       "    </tr>\n",
       "    <tr>\n",
       "      <th>9</th>\n",
       "      <td>0</td>\n",
       "      <td>4.46558</td>\n",
       "      <td>11/20/15</td>\n",
       "      <td>LinearSVC with decision_function</td>\n",
       "      <td>0</td>\n",
       "    </tr>\n",
       "  </tbody>\n",
       "</table>\n",
       "</div>"
      ],
      "text/plain": [
       "  KaggleScore  LocalScore      Date  \\\n",
       "0     1.36788     1.36406  11/19/15   \n",
       "1           0     1.64493  11/19/15   \n",
       "2           0     4.25146  11/19/15   \n",
       "3           0     1.44762  11/19/15   \n",
       "4           0     1.37421  11/19/15   \n",
       "5      1.3462     1.31995  11/19/15   \n",
       "6           0    30.04107  11/20/15   \n",
       "7     1.38825     1.37899  11/20/15   \n",
       "8           0     6.31217  11/20/15   \n",
       "9           0     4.46558  11/20/15   \n",
       "\n",
       "                                  Description  Rank  \n",
       "0  Logistic regression using initial features   240  \n",
       "1           Random Forest with 100 estimators     0  \n",
       "2            Random Forest with 10 estimators     0  \n",
       "3           Random Forest with 200 estimators     0  \n",
       "4           Random Forest with 300 estimators     0  \n",
       "5           Random Forest with 400 estimators   230  \n",
       "6                        Gaussian Naive Bayes     0  \n",
       "7                       Bernoulli Naive Bayes   240  \n",
       "8                                 K-Neighbors     0  \n",
       "9            LinearSVC with decision_function     0  "
      ]
     },
     "execution_count": 74,
     "metadata": {},
     "output_type": "execute_result"
    }
   ],
   "source": [
    "results"
   ]
  },
  {
   "cell_type": "code",
   "execution_count": 75,
   "metadata": {
    "collapsed": true
   },
   "outputs": [],
   "source": [
    "results = results.append({\"LocalScore\": 2.06826, \"KaggleScore\": 0, \n",
    "                        \"Date\": datetime.datetime.now().strftime('%m/%d/%y'),\n",
    "               \"Description\": \"ExtraTrees\", \"Rank\": 0\n",
    "                       }, ignore_index = True)"
   ]
  },
  {
   "cell_type": "code",
   "execution_count": 76,
   "metadata": {
    "collapsed": true
   },
   "outputs": [],
   "source": [
    "results = results.append({\"LocalScore\": 1.29012, \"KaggleScore\": 1.30906, \n",
    "                        \"Date\": datetime.datetime.now().strftime('%m/%d/%y'),\n",
    "               \"Description\": \"Random Trees with 2 max features\", \"Rank\": 232\n",
    "                       }, ignore_index = True)"
   ]
  },
  {
   "cell_type": "code",
   "execution_count": 77,
   "metadata": {
    "collapsed": false
   },
   "outputs": [],
   "source": [
    "results.KaggleScore = results.KaggleScore.astype(float)"
   ]
  },
  {
   "cell_type": "code",
   "execution_count": 87,
   "metadata": {
    "collapsed": false
   },
   "outputs": [],
   "source": [
    "results = results.sort_values(by=\"KaggleScore\")"
   ]
  },
  {
   "cell_type": "code",
   "execution_count": 88,
   "metadata": {
    "collapsed": false
   },
   "outputs": [],
   "source": [
    "posted_results = results[results.KaggleScore > 0]"
   ]
  },
  {
   "cell_type": "code",
   "execution_count": 89,
   "metadata": {
    "collapsed": false
   },
   "outputs": [
    {
     "data": {
      "text/html": [
       "<div>\n",
       "<table border=\"1\" class=\"dataframe\">\n",
       "  <thead>\n",
       "    <tr style=\"text-align: right;\">\n",
       "      <th></th>\n",
       "      <th>KaggleScore</th>\n",
       "      <th>LocalScore</th>\n",
       "      <th>Date</th>\n",
       "      <th>Description</th>\n",
       "      <th>Rank</th>\n",
       "    </tr>\n",
       "  </thead>\n",
       "  <tbody>\n",
       "    <tr>\n",
       "      <th>11</th>\n",
       "      <td>1.30906</td>\n",
       "      <td>1.29012</td>\n",
       "      <td>11/20/15</td>\n",
       "      <td>Random Trees with 2 max features</td>\n",
       "      <td>232</td>\n",
       "    </tr>\n",
       "    <tr>\n",
       "      <th>5</th>\n",
       "      <td>1.34620</td>\n",
       "      <td>1.31995</td>\n",
       "      <td>11/19/15</td>\n",
       "      <td>Random Forest with 400 estimators</td>\n",
       "      <td>230</td>\n",
       "    </tr>\n",
       "    <tr>\n",
       "      <th>0</th>\n",
       "      <td>1.36788</td>\n",
       "      <td>1.36406</td>\n",
       "      <td>11/19/15</td>\n",
       "      <td>Logistic regression using initial features</td>\n",
       "      <td>240</td>\n",
       "    </tr>\n",
       "    <tr>\n",
       "      <th>7</th>\n",
       "      <td>1.38825</td>\n",
       "      <td>1.37899</td>\n",
       "      <td>11/20/15</td>\n",
       "      <td>Bernoulli Naive Bayes</td>\n",
       "      <td>240</td>\n",
       "    </tr>\n",
       "  </tbody>\n",
       "</table>\n",
       "</div>"
      ],
      "text/plain": [
       "    KaggleScore  LocalScore      Date  \\\n",
       "11      1.30906     1.29012  11/20/15   \n",
       "5       1.34620     1.31995  11/19/15   \n",
       "0       1.36788     1.36406  11/19/15   \n",
       "7       1.38825     1.37899  11/20/15   \n",
       "\n",
       "                                   Description  Rank  \n",
       "11            Random Trees with 2 max features   232  \n",
       "5            Random Forest with 400 estimators   230  \n",
       "0   Logistic regression using initial features   240  \n",
       "7                        Bernoulli Naive Bayes   240  "
      ]
     },
     "execution_count": 89,
     "metadata": {},
     "output_type": "execute_result"
    }
   ],
   "source": [
    "posted_results"
   ]
  },
  {
   "cell_type": "code",
   "execution_count": null,
   "metadata": {
    "collapsed": true
   },
   "outputs": [],
   "source": []
  }
 ],
 "metadata": {
  "kernelspec": {
   "display_name": "Python 3",
   "language": "python",
   "name": "python3"
  },
  "language_info": {
   "codemirror_mode": {
    "name": "ipython",
    "version": 3
   },
   "file_extension": ".py",
   "mimetype": "text/x-python",
   "name": "python",
   "nbconvert_exporter": "python",
   "pygments_lexer": "ipython3",
   "version": "3.5.0"
  }
 },
 "nbformat": 4,
 "nbformat_minor": 0
}
