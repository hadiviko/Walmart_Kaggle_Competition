{
 "cells": [
  {
   "cell_type": "code",
   "execution_count": 247,
   "metadata": {
    "collapsed": true
   },
   "outputs": [],
   "source": [
    "import pandas as pd\n",
    "import numpy as np\n",
    "import re \n",
    "import matplotlib.pyplot as plt\n",
    "import seaborn as sns\n",
    "import scipy\n",
    "%matplotlib inline"
   ]
  },
  {
   "cell_type": "code",
   "execution_count": 4,
   "metadata": {
    "collapsed": false
   },
   "outputs": [
    {
     "name": "stderr",
     "output_type": "stream",
     "text": [
      "/Users/MattKasle/Matt/.direnv/python-3.5.0/lib/python3.5/site-packages/sklearn/utils/fixes.py:64: DeprecationWarning: inspect.getargspec() is deprecated, use inspect.signature() instead\n",
      "  if 'order' in inspect.getargspec(np.copy)[0]:\n"
     ]
    }
   ],
   "source": [
    "from sklearn import preprocessing"
   ]
  },
  {
   "cell_type": "code",
   "execution_count": 97,
   "metadata": {
    "collapsed": true
   },
   "outputs": [],
   "source": [
    "data = pd.read_csv(\"train.csv\")"
   ]
  },
  {
   "cell_type": "code",
   "execution_count": 6,
   "metadata": {
    "collapsed": true
   },
   "outputs": [],
   "source": [
    "w_test_data = pd.read_csv(\"test 2 (1).csv\")\n",
    "sample_submission = pd.read_csv(\"sample_submission (1).csv\")"
   ]
  },
  {
   "cell_type": "markdown",
   "metadata": {},
   "source": [
    "## Data Cleaning and Feature Engineering"
   ]
  },
  {
   "cell_type": "code",
   "execution_count": 132,
   "metadata": {
    "collapsed": false
   },
   "outputs": [],
   "source": [
    "def transform_my_data(data):\n",
    "    \n",
    "    dummies = pd.get_dummies(data.DepartmentDescription)\n",
    "    data[dummies.columns] = dummies \n",
    "    data['Weekday'] = data['Weekday'].map({\"Monday\": 1, \"Tuesday\": 2, \"Wednesday\": 3, \"Thursday\": 4, \"Friday\": 5, \n",
    "                                           \"Saturday\": 6, \"Sunday\": 7})\n",
    "    data_dummies = data.iloc[:,7:]\n",
    "    data_dummies = data_dummies.apply(lambda x: x*data[\"ScanCount\"])\n",
    "    data_dummies = data_dummies.replace(-0,0)\n",
    "\n",
    "    data.loc[data.ScanCount < 0, 'Return'] = 1\n",
    "    data.loc[data.Return != 1, 'Return'] = 0\n",
    "    #data = data[[\"TripType\", \"VisitNumber\", \"Weekday\", \"ScanCount\", \"Return\"]]\n",
    "    data = data.rename(columns={\"ScanCount\":\"NumItems\"})\n",
    "    #data = pd.concat([data, data_dummies], axis=1)\n",
    "    grouped = data.groupby(\"VisitNumber\")\n",
    "    grouped = grouped.agg({'Weekday': np.max, \"TripType\": np.max, 'NumItems': np.sum, 'Return': np.max, \n",
    "              '1-HR PHOTO': np.sum, 'ACCESSORIES': np.sum,\n",
    "       'AUTOMOTIVE': np.sum, 'BAKERY': np.sum, 'BATH AND SHOWER': np.sum, 'BEAUTY': np.sum, 'BEDDING': np.sum,\n",
    "       'BOOKS AND MAGAZINES': np.sum, 'BOYS WEAR': np.sum, 'BRAS & SHAPEWEAR': np.sum,\n",
    "       'CAMERAS AND SUPPLIES': np.sum, 'CANDY, TOBACCO, COOKIES': np.sum, 'CELEBRATION': np.sum,\n",
    "       'COMM BREAD': np.sum, 'CONCEPT STORES': np.sum, 'COOK AND DINE': np.sum, 'DAIRY': np.sum, 'DSD GROCERY': np.sum,\n",
    "       'ELECTRONICS': np.sum, 'FABRICS AND CRAFTS': np.sum, 'FINANCIAL SERVICES': np.sum,\n",
    "       'FROZEN FOODS': np.sum, 'FURNITURE': np.sum, 'GIRLS WEAR, 4-6X  AND 7-14': np.sum,\n",
    "       'GROCERY DRY GOODS': np.sum, 'HARDWARE': np.sum, 'HEALTH AND BEAUTY AIDS': np.sum, 'HOME DECOR': np.sum,\n",
    "       'HOME MANAGEMENT': np.sum, 'HORTICULTURE AND ACCESS': np.sum,\n",
    "       'HOUSEHOLD CHEMICALS/SUPP': np.sum, 'HOUSEHOLD PAPER GOODS': np.sum,\n",
    "       'IMPULSE MERCHANDISE': np.sum, 'INFANT APPAREL': np.sum, 'INFANT CONSUMABLE HARDLINES': np.sum,\n",
    "       'JEWELRY AND SUNGLASSES': np.sum, 'LADIES SOCKS': np.sum, 'LADIESWEAR': np.sum,\n",
    "       'LARGE HOUSEHOLD GOODS': np.sum, 'LAWN AND GARDEN': np.sum, 'LIQUOR,WINE,BEER': np.sum,\n",
    "       'MEAT - FRESH & FROZEN': np.sum, 'MEDIA AND GAMING': np.sum, 'MENS WEAR': np.sum, 'MENSWEAR': np.sum,\n",
    "       'OFFICE SUPPLIES': np.sum, 'OPTICAL - FRAMES': np.sum, 'OPTICAL - LENSES': np.sum,\n",
    "       'OTHER DEPARTMENTS': np.sum, 'PAINT AND ACCESSORIES': np.sum, 'PERSONAL CARE': np.sum,\n",
    "       'PETS AND SUPPLIES': np.sum, 'PHARMACY OTC': np.sum, 'PHARMACY RX': np.sum,\n",
    "       'PLAYERS AND ELECTRONICS': np.sum, 'PLUS AND MATERNITY': np.sum, 'PRE PACKED DELI': np.sum,\n",
    "       'PRODUCE': np.sum, 'SEAFOOD': np.sum, 'SEASONAL': np.sum, 'SERVICE DELI': np.sum, 'SHEER HOSIERY': np.sum,\n",
    "       'SHOES': np.sum, 'SLEEPWEAR/FOUNDATIONS': np.sum, 'SPORTING GOODS': np.sum,\n",
    "       'SWIMWEAR/OUTERWEAR': np.sum, 'TOYS': np.sum, 'WIRELESS': np.sum})\n",
    "    data = grouped[[\"TripType\", \"Weekday\", \"NumItems\", \"Return\",'1-HR PHOTO', 'ACCESSORIES',\n",
    "           'AUTOMOTIVE', 'BAKERY', 'BATH AND SHOWER', 'BEAUTY', 'BEDDING',\n",
    "           'BOOKS AND MAGAZINES', 'BOYS WEAR', 'BRAS & SHAPEWEAR',\n",
    "           'CAMERAS AND SUPPLIES', 'CANDY, TOBACCO, COOKIES', 'CELEBRATION',\n",
    "           'COMM BREAD', 'CONCEPT STORES', 'COOK AND DINE', 'DAIRY', 'DSD GROCERY',\n",
    "           'ELECTRONICS', 'FABRICS AND CRAFTS', 'FINANCIAL SERVICES',\n",
    "           'FROZEN FOODS', 'FURNITURE', 'GIRLS WEAR, 4-6X  AND 7-14',\n",
    "           'GROCERY DRY GOODS', 'HARDWARE', 'HEALTH AND BEAUTY AIDS', 'HOME DECOR',\n",
    "           'HOME MANAGEMENT', 'HORTICULTURE AND ACCESS',\n",
    "           'HOUSEHOLD CHEMICALS/SUPP', 'HOUSEHOLD PAPER GOODS',\n",
    "           'IMPULSE MERCHANDISE', 'INFANT APPAREL', 'INFANT CONSUMABLE HARDLINES',\n",
    "           'JEWELRY AND SUNGLASSES', 'LADIES SOCKS', 'LADIESWEAR',\n",
    "           'LARGE HOUSEHOLD GOODS', 'LAWN AND GARDEN', 'LIQUOR,WINE,BEER',\n",
    "           'MEAT - FRESH & FROZEN', 'MEDIA AND GAMING', 'MENS WEAR', 'MENSWEAR',\n",
    "           'OFFICE SUPPLIES', 'OPTICAL - FRAMES', 'OPTICAL - LENSES',\n",
    "           'OTHER DEPARTMENTS', 'PAINT AND ACCESSORIES', 'PERSONAL CARE',\n",
    "           'PETS AND SUPPLIES', 'PHARMACY OTC', 'PHARMACY RX',\n",
    "           'PLAYERS AND ELECTRONICS', 'PLUS AND MATERNITY', 'PRE PACKED DELI',\n",
    "           'PRODUCE', 'SEAFOOD', 'SEASONAL', 'SERVICE DELI', 'SHEER HOSIERY',\n",
    "           'SHOES', 'SLEEPWEAR/FOUNDATIONS', 'SPORTING GOODS',\n",
    "           'SWIMWEAR/OUTERWEAR', 'TOYS', 'WIRELESS']]\n",
    "    features = [\"Weekday\", \"NumItems\", \"Return\", 'ACCESSORIES',\n",
    "       'AUTOMOTIVE', 'BAKERY', 'BATH AND SHOWER', 'BEAUTY', 'BEDDING',\n",
    "       'BOOKS AND MAGAZINES', 'BOYS WEAR', 'BRAS & SHAPEWEAR',\n",
    "       'CAMERAS AND SUPPLIES', 'CANDY, TOBACCO, COOKIES', 'CELEBRATION',\n",
    "       'COMM BREAD', 'CONCEPT STORES', 'COOK AND DINE', 'DAIRY', 'DSD GROCERY',\n",
    "       'ELECTRONICS', 'FABRICS AND CRAFTS', 'FINANCIAL SERVICES',\n",
    "       'FROZEN FOODS', 'FURNITURE', 'GIRLS WEAR, 4-6X  AND 7-14',\n",
    "       'GROCERY DRY GOODS', 'HARDWARE', 'HOME DECOR',\n",
    "       'HOME MANAGEMENT', 'HORTICULTURE AND ACCESS',\n",
    "       'HOUSEHOLD CHEMICALS/SUPP', 'HOUSEHOLD PAPER GOODS',\n",
    "       'IMPULSE MERCHANDISE', 'INFANT APPAREL', 'INFANT CONSUMABLE HARDLINES',\n",
    "       'JEWELRY AND SUNGLASSES', 'LADIES SOCKS', 'LADIESWEAR',\n",
    "       'LARGE HOUSEHOLD GOODS', 'LAWN AND GARDEN', 'LIQUOR,WINE,BEER',\n",
    "       'MEAT - FRESH & FROZEN', 'MEDIA AND GAMING', 'MENS WEAR', 'MENSWEAR',\n",
    "       'OFFICE SUPPLIES', 'OPTICAL - FRAMES', 'OPTICAL - LENSES',\n",
    "       'OTHER DEPARTMENTS', 'PAINT AND ACCESSORIES', 'PERSONAL CARE',\n",
    "       'PETS AND SUPPLIES', 'PHARMACY OTC', 'PHARMACY RX',\n",
    "       'PLAYERS AND ELECTRONICS', 'PLUS AND MATERNITY', 'PRE PACKED DELI',\n",
    "       'PRODUCE', 'SEAFOOD', 'SEASONAL', 'SERVICE DELI', 'SHEER HOSIERY',\n",
    "       'SHOES', 'SLEEPWEAR/FOUNDATIONS', 'SPORTING GOODS',\n",
    "       'SWIMWEAR/OUTERWEAR', 'TOYS', 'WIRELESS']\n",
    "    data['TripType'] = data['TripType'].map({3:0, 4:1, 5:2, 6:3, 7:4, 8:5, 9:6, 12:7, 14:8, 15:9,  \n",
    "                                         18:10, 19:11, 20:12, 21:13, 22:14, 23:15, 24:16, 25:17, 26:18,  \n",
    "                                         27:19, 28:20, 29:21, 30:22, 31:23, 32:24, 33:25, 34:26, 35:27, \n",
    "                                         36:28, 37:29, 38:30, 39:31, 40:32, 41:33, 42:34, 43:35, 44:36, 999:37})\n",
    "    return data"
   ]
  },
  {
   "cell_type": "code",
   "execution_count": 131,
   "metadata": {
    "collapsed": true
   },
   "outputs": [],
   "source": []
  },
  {
   "cell_type": "code",
   "execution_count": 99,
   "metadata": {
    "collapsed": false
   },
   "outputs": [],
   "source": [
    "data = transform_my_data(data)"
   ]
  },
  {
   "cell_type": "code",
   "execution_count": 100,
   "metadata": {
    "collapsed": false
   },
   "outputs": [
    {
     "data": {
      "text/html": [
       "<div>\n",
       "<table border=\"1\" class=\"dataframe\">\n",
       "  <thead>\n",
       "    <tr style=\"text-align: right;\">\n",
       "      <th></th>\n",
       "      <th>TripType</th>\n",
       "      <th>Weekday</th>\n",
       "      <th>NumItems</th>\n",
       "      <th>Return</th>\n",
       "      <th>1-HR PHOTO</th>\n",
       "      <th>ACCESSORIES</th>\n",
       "      <th>AUTOMOTIVE</th>\n",
       "      <th>BAKERY</th>\n",
       "      <th>BATH AND SHOWER</th>\n",
       "      <th>BEAUTY</th>\n",
       "      <th>...</th>\n",
       "      <th>SEAFOOD</th>\n",
       "      <th>SEASONAL</th>\n",
       "      <th>SERVICE DELI</th>\n",
       "      <th>SHEER HOSIERY</th>\n",
       "      <th>SHOES</th>\n",
       "      <th>SLEEPWEAR/FOUNDATIONS</th>\n",
       "      <th>SPORTING GOODS</th>\n",
       "      <th>SWIMWEAR/OUTERWEAR</th>\n",
       "      <th>TOYS</th>\n",
       "      <th>WIRELESS</th>\n",
       "    </tr>\n",
       "    <tr>\n",
       "      <th>VisitNumber</th>\n",
       "      <th></th>\n",
       "      <th></th>\n",
       "      <th></th>\n",
       "      <th></th>\n",
       "      <th></th>\n",
       "      <th></th>\n",
       "      <th></th>\n",
       "      <th></th>\n",
       "      <th></th>\n",
       "      <th></th>\n",
       "      <th></th>\n",
       "      <th></th>\n",
       "      <th></th>\n",
       "      <th></th>\n",
       "      <th></th>\n",
       "      <th></th>\n",
       "      <th></th>\n",
       "      <th></th>\n",
       "      <th></th>\n",
       "      <th></th>\n",
       "      <th></th>\n",
       "    </tr>\n",
       "  </thead>\n",
       "  <tbody>\n",
       "    <tr>\n",
       "      <th>5</th>\n",
       "      <td>37</td>\n",
       "      <td>5</td>\n",
       "      <td>-1</td>\n",
       "      <td>1</td>\n",
       "      <td>0</td>\n",
       "      <td>0</td>\n",
       "      <td>0</td>\n",
       "      <td>0</td>\n",
       "      <td>0</td>\n",
       "      <td>0</td>\n",
       "      <td>...</td>\n",
       "      <td>0</td>\n",
       "      <td>0</td>\n",
       "      <td>0</td>\n",
       "      <td>0</td>\n",
       "      <td>0</td>\n",
       "      <td>0</td>\n",
       "      <td>0</td>\n",
       "      <td>0</td>\n",
       "      <td>0</td>\n",
       "      <td>0</td>\n",
       "    </tr>\n",
       "    <tr>\n",
       "      <th>7</th>\n",
       "      <td>22</td>\n",
       "      <td>5</td>\n",
       "      <td>2</td>\n",
       "      <td>0</td>\n",
       "      <td>0</td>\n",
       "      <td>0</td>\n",
       "      <td>0</td>\n",
       "      <td>0</td>\n",
       "      <td>0</td>\n",
       "      <td>0</td>\n",
       "      <td>...</td>\n",
       "      <td>0</td>\n",
       "      <td>0</td>\n",
       "      <td>0</td>\n",
       "      <td>0</td>\n",
       "      <td>1</td>\n",
       "      <td>0</td>\n",
       "      <td>0</td>\n",
       "      <td>0</td>\n",
       "      <td>0</td>\n",
       "      <td>0</td>\n",
       "    </tr>\n",
       "    <tr>\n",
       "      <th>8</th>\n",
       "      <td>18</td>\n",
       "      <td>5</td>\n",
       "      <td>28</td>\n",
       "      <td>1</td>\n",
       "      <td>0</td>\n",
       "      <td>0</td>\n",
       "      <td>0</td>\n",
       "      <td>0</td>\n",
       "      <td>0</td>\n",
       "      <td>0</td>\n",
       "      <td>...</td>\n",
       "      <td>0</td>\n",
       "      <td>0</td>\n",
       "      <td>0</td>\n",
       "      <td>0</td>\n",
       "      <td>0</td>\n",
       "      <td>0</td>\n",
       "      <td>0</td>\n",
       "      <td>0</td>\n",
       "      <td>0</td>\n",
       "      <td>0</td>\n",
       "    </tr>\n",
       "    <tr>\n",
       "      <th>9</th>\n",
       "      <td>5</td>\n",
       "      <td>5</td>\n",
       "      <td>3</td>\n",
       "      <td>0</td>\n",
       "      <td>0</td>\n",
       "      <td>0</td>\n",
       "      <td>0</td>\n",
       "      <td>0</td>\n",
       "      <td>0</td>\n",
       "      <td>0</td>\n",
       "      <td>...</td>\n",
       "      <td>0</td>\n",
       "      <td>0</td>\n",
       "      <td>0</td>\n",
       "      <td>0</td>\n",
       "      <td>0</td>\n",
       "      <td>0</td>\n",
       "      <td>0</td>\n",
       "      <td>0</td>\n",
       "      <td>0</td>\n",
       "      <td>0</td>\n",
       "    </tr>\n",
       "    <tr>\n",
       "      <th>10</th>\n",
       "      <td>5</td>\n",
       "      <td>5</td>\n",
       "      <td>3</td>\n",
       "      <td>0</td>\n",
       "      <td>0</td>\n",
       "      <td>0</td>\n",
       "      <td>0</td>\n",
       "      <td>0</td>\n",
       "      <td>0</td>\n",
       "      <td>0</td>\n",
       "      <td>...</td>\n",
       "      <td>0</td>\n",
       "      <td>0</td>\n",
       "      <td>0</td>\n",
       "      <td>0</td>\n",
       "      <td>0</td>\n",
       "      <td>0</td>\n",
       "      <td>0</td>\n",
       "      <td>0</td>\n",
       "      <td>0</td>\n",
       "      <td>0</td>\n",
       "    </tr>\n",
       "  </tbody>\n",
       "</table>\n",
       "<p>5 rows × 72 columns</p>\n",
       "</div>"
      ],
      "text/plain": [
       "             TripType  Weekday  NumItems  Return  1-HR PHOTO  ACCESSORIES  \\\n",
       "VisitNumber                                                                 \n",
       "5                  37        5        -1       1           0            0   \n",
       "7                  22        5         2       0           0            0   \n",
       "8                  18        5        28       1           0            0   \n",
       "9                   5        5         3       0           0            0   \n",
       "10                  5        5         3       0           0            0   \n",
       "\n",
       "             AUTOMOTIVE  BAKERY  BATH AND SHOWER  BEAUTY    ...     SEAFOOD  \\\n",
       "VisitNumber                                                 ...               \n",
       "5                     0       0                0       0    ...           0   \n",
       "7                     0       0                0       0    ...           0   \n",
       "8                     0       0                0       0    ...           0   \n",
       "9                     0       0                0       0    ...           0   \n",
       "10                    0       0                0       0    ...           0   \n",
       "\n",
       "             SEASONAL  SERVICE DELI  SHEER HOSIERY  SHOES  \\\n",
       "VisitNumber                                                 \n",
       "5                   0             0              0      0   \n",
       "7                   0             0              0      1   \n",
       "8                   0             0              0      0   \n",
       "9                   0             0              0      0   \n",
       "10                  0             0              0      0   \n",
       "\n",
       "             SLEEPWEAR/FOUNDATIONS  SPORTING GOODS  SWIMWEAR/OUTERWEAR  TOYS  \\\n",
       "VisitNumber                                                                    \n",
       "5                                0               0                   0     0   \n",
       "7                                0               0                   0     0   \n",
       "8                                0               0                   0     0   \n",
       "9                                0               0                   0     0   \n",
       "10                               0               0                   0     0   \n",
       "\n",
       "             WIRELESS  \n",
       "VisitNumber            \n",
       "5                   0  \n",
       "7                   0  \n",
       "8                   0  \n",
       "9                   0  \n",
       "10                  0  \n",
       "\n",
       "[5 rows x 72 columns]"
      ]
     },
     "execution_count": 100,
     "metadata": {},
     "output_type": "execute_result"
    }
   ],
   "source": [
    "data.head()"
   ]
  },
  {
   "cell_type": "code",
   "execution_count": 2,
   "metadata": {
    "collapsed": false
   },
   "outputs": [],
   "source": [
    "def transform_w_data(data):\n",
    "    dummies = pd.get_dummies(data.DepartmentDescription)\n",
    "    data[dummies.columns] = dummies \n",
    "    data['Weekday'] = data['Weekday'].map({\"Monday\": 1, \"Tuesday\": 2, \"Wednesday\": 3, \"Thursday\": 4, \"Friday\": 5,\n",
    "                                           \"Saturday\": 6, \"Sunday\": 7})\n",
    "    data_dummies = data.iloc[:,7:]\n",
    "    data_dummies = data_dummies.apply(lambda x: x*data[\"ScanCount\"])\n",
    "    data_dummies = data_dummies.replace(-0,0)\n",
    "    data.loc[data.ScanCount < 0, 'Return'] = 1\n",
    "    data.loc[data.Return != 1, 'Return'] = 0\n",
    "    data = data[[\"VisitNumber\", \"Weekday\", \"ScanCount\", \"Return\"]]\n",
    "    data = data.rename(columns={\"ScanCount\":\"NumItems\"})\n",
    "    data = pd.concat([data, data_dummies], axis=1)\n",
    "    grouped = data.groupby(\"VisitNumber\")\n",
    "    grouped = grouped.agg({'Weekday': np.max, 'NumItems': np.sum, 'Return': np.max, \n",
    "                'ACCESSORIES': np.sum,\n",
    "           'AUTOMOTIVE': np.sum, 'BAKERY': np.sum, 'BATH AND SHOWER': np.sum, 'BEAUTY': np.sum, 'BEDDING': np.sum,\n",
    "           'BOOKS AND MAGAZINES': np.sum, 'BOYS WEAR': np.sum, 'BRAS & SHAPEWEAR': np.sum,\n",
    "           'CAMERAS AND SUPPLIES': np.sum, 'CANDY, TOBACCO, COOKIES': np.sum, 'CELEBRATION': np.sum,\n",
    "           'COMM BREAD': np.sum, 'CONCEPT STORES': np.sum, 'COOK AND DINE': np.sum, 'DAIRY': np.sum, 'DSD GROCERY': np.sum,\n",
    "           'ELECTRONICS': np.sum, 'FABRICS AND CRAFTS': np.sum, 'FINANCIAL SERVICES': np.sum,\n",
    "           'FROZEN FOODS': np.sum, 'FURNITURE': np.sum, 'GIRLS WEAR, 4-6X  AND 7-14': np.sum,\n",
    "           'GROCERY DRY GOODS': np.sum, 'HARDWARE': np.sum, 'HOME DECOR': np.sum,\n",
    "           'HOME MANAGEMENT': np.sum, 'HORTICULTURE AND ACCESS': np.sum,\n",
    "           'HOUSEHOLD CHEMICALS/SUPP': np.sum, 'HOUSEHOLD PAPER GOODS': np.sum,\n",
    "           'IMPULSE MERCHANDISE': np.sum, 'INFANT APPAREL': np.sum, 'INFANT CONSUMABLE HARDLINES': np.sum,\n",
    "           'JEWELRY AND SUNGLASSES': np.sum, 'LADIES SOCKS': np.sum, 'LADIESWEAR': np.sum,\n",
    "           'LARGE HOUSEHOLD GOODS': np.sum, 'LAWN AND GARDEN': np.sum, 'LIQUOR,WINE,BEER': np.sum,\n",
    "           'MEAT - FRESH & FROZEN': np.sum, 'MEDIA AND GAMING': np.sum, 'MENS WEAR': np.sum, 'MENSWEAR': np.sum,\n",
    "           'OFFICE SUPPLIES': np.sum, 'OPTICAL - FRAMES': np.sum, 'OPTICAL - LENSES': np.sum,\n",
    "           'OTHER DEPARTMENTS': np.sum, 'PAINT AND ACCESSORIES': np.sum, 'PERSONAL CARE': np.sum,\n",
    "           'PETS AND SUPPLIES': np.sum, 'PHARMACY OTC': np.sum, 'PHARMACY RX': np.sum,\n",
    "           'PLAYERS AND ELECTRONICS': np.sum, 'PLUS AND MATERNITY': np.sum, 'PRE PACKED DELI': np.sum,\n",
    "           'PRODUCE': np.sum, 'SEAFOOD': np.sum, 'SEASONAL': np.sum, 'SERVICE DELI': np.sum, 'SHEER HOSIERY': np.sum,\n",
    "           'SHOES': np.sum, 'SLEEPWEAR/FOUNDATIONS': np.sum, 'SPORTING GOODS': np.sum,\n",
    "           'SWIMWEAR/OUTERWEAR': np.sum, 'TOYS': np.sum, 'WIRELESS': np.sum})\n",
    "    data = grouped[[\"Weekday\", \"NumItems\", \"Return\", 'ACCESSORIES',\n",
    "               'AUTOMOTIVE', 'BAKERY', 'BATH AND SHOWER', 'BEAUTY', 'BEDDING',\n",
    "               'BOOKS AND MAGAZINES', 'BOYS WEAR', 'BRAS & SHAPEWEAR',\n",
    "               'CAMERAS AND SUPPLIES', 'CANDY, TOBACCO, COOKIES', 'CELEBRATION',\n",
    "               'COMM BREAD', 'CONCEPT STORES', 'COOK AND DINE', 'DAIRY', 'DSD GROCERY',\n",
    "               'ELECTRONICS', 'FABRICS AND CRAFTS', 'FINANCIAL SERVICES',\n",
    "               'FROZEN FOODS', 'FURNITURE', 'GIRLS WEAR, 4-6X  AND 7-14',\n",
    "               'GROCERY DRY GOODS', 'HARDWARE', 'HOME DECOR',\n",
    "               'HOME MANAGEMENT', 'HORTICULTURE AND ACCESS',\n",
    "               'HOUSEHOLD CHEMICALS/SUPP', 'HOUSEHOLD PAPER GOODS',\n",
    "               'IMPULSE MERCHANDISE', 'INFANT APPAREL', 'INFANT CONSUMABLE HARDLINES',\n",
    "               'JEWELRY AND SUNGLASSES', 'LADIES SOCKS', 'LADIESWEAR',\n",
    "               'LARGE HOUSEHOLD GOODS', 'LAWN AND GARDEN', 'LIQUOR,WINE,BEER',\n",
    "               'MEAT - FRESH & FROZEN', 'MEDIA AND GAMING', 'MENS WEAR', 'MENSWEAR',\n",
    "               'OFFICE SUPPLIES', 'OPTICAL - FRAMES', 'OPTICAL - LENSES',\n",
    "               'OTHER DEPARTMENTS', 'PAINT AND ACCESSORIES', 'PERSONAL CARE',\n",
    "               'PETS AND SUPPLIES', 'PHARMACY OTC', 'PHARMACY RX',\n",
    "               'PLAYERS AND ELECTRONICS', 'PLUS AND MATERNITY', 'PRE PACKED DELI',\n",
    "               'PRODUCE', 'SEAFOOD', 'SEASONAL', 'SERVICE DELI', 'SHEER HOSIERY',\n",
    "               'SHOES', 'SLEEPWEAR/FOUNDATIONS', 'SPORTING GOODS',\n",
    "               'SWIMWEAR/OUTERWEAR', 'TOYS', 'WIRELESS']]\n",
    "    #data['TripType'] = data['TripType'].map({3:0, 4:1, 5:2, 6:3, 7:4, 8:5, 9:6, 12:7, 14:8, 15:9,  \n",
    "                                         #18:10, 19:11, 20:12, 21:13, 22:14, 23:15, 24:16, 25:17, 26:18,  \n",
    "                                         #27:19, 28:20, 29:21, 30:22, 31:23, 32:24, 33:25, 34:26, 35:27, \n",
    "                                         #36:28, 37:29, 38:30, 39:31, 40:32, 41:33, 42:34, 43:35, 44:36, 999:37})\n",
    "    return data"
   ]
  },
  {
   "cell_type": "code",
   "execution_count": 126,
   "metadata": {
    "collapsed": false
   },
   "outputs": [],
   "source": [
    "test_features = [\"Weekday\", \"NumItems\", \"Return\", 'CategoryCounts', 'ACCESSORIES', \n",
    "           'AUTOMOTIVE', 'BAKERY', 'BATH AND SHOWER', 'BEAUTY', 'BEDDING',\n",
    "           'BOOKS AND MAGAZINES', 'BOYS WEAR', 'BRAS & SHAPEWEAR',\n",
    "           'CAMERAS AND SUPPLIES', 'CANDY, TOBACCO, COOKIES', 'CELEBRATION',\n",
    "           'COMM BREAD', 'CONCEPT STORES', 'COOK AND DINE', 'DAIRY', 'DSD GROCERY',\n",
    "           'ELECTRONICS', 'FABRICS AND CRAFTS', 'FINANCIAL SERVICES',\n",
    "           'FROZEN FOODS', 'FURNITURE', 'GIRLS WEAR, 4-6X  AND 7-14',\n",
    "           'GROCERY DRY GOODS', 'HARDWARE', 'HOME DECOR',\n",
    "           'HOME MANAGEMENT', 'HORTICULTURE AND ACCESS',\n",
    "           'HOUSEHOLD CHEMICALS/SUPP', 'HOUSEHOLD PAPER GOODS',\n",
    "           'IMPULSE MERCHANDISE', 'INFANT APPAREL', 'INFANT CONSUMABLE HARDLINES',\n",
    "           'JEWELRY AND SUNGLASSES', 'LADIES SOCKS', 'LADIESWEAR',\n",
    "           'LARGE HOUSEHOLD GOODS', 'LAWN AND GARDEN', 'LIQUOR,WINE,BEER',\n",
    "           'MEAT - FRESH & FROZEN', 'MEDIA AND GAMING', 'MENS WEAR', 'MENSWEAR',\n",
    "           'OFFICE SUPPLIES', 'OPTICAL - FRAMES', 'OPTICAL - LENSES',\n",
    "           'OTHER DEPARTMENTS', 'PAINT AND ACCESSORIES', 'PERSONAL CARE',\n",
    "           'PETS AND SUPPLIES', 'PHARMACY OTC', 'PHARMACY RX',\n",
    "           'PLAYERS AND ELECTRONICS', 'PLUS AND MATERNITY', 'PRE PACKED DELI',\n",
    "           'PRODUCE', 'SEAFOOD', 'SEASONAL', 'SERVICE DELI', 'SHEER HOSIERY',\n",
    "           'SHOES', 'SLEEPWEAR/FOUNDATIONS', 'SPORTING GOODS',\n",
    "           'SWIMWEAR/OUTERWEAR', 'TOYS', 'WIRELESS']\n",
    "features = [\"Weekday\", \"NumItems\", \"Return\", 'CategoryCounts', 'ACCESSORIES',\n",
    "       'AUTOMOTIVE', 'BAKERY', 'BATH AND SHOWER', 'BEAUTY', 'BEDDING',\n",
    "       'BOOKS AND MAGAZINES', 'BOYS WEAR', 'BRAS & SHAPEWEAR',\n",
    "       'CAMERAS AND SUPPLIES', 'CANDY, TOBACCO, COOKIES', 'CELEBRATION',\n",
    "       'COMM BREAD', 'CONCEPT STORES', 'COOK AND DINE', 'DAIRY', 'DSD GROCERY',\n",
    "       'ELECTRONICS', 'FABRICS AND CRAFTS', 'FINANCIAL SERVICES',\n",
    "       'FROZEN FOODS', 'FURNITURE', 'GIRLS WEAR, 4-6X  AND 7-14',\n",
    "       'GROCERY DRY GOODS', 'HARDWARE', 'HOME DECOR',\n",
    "       'HOME MANAGEMENT', 'HORTICULTURE AND ACCESS',\n",
    "       'HOUSEHOLD CHEMICALS/SUPP', 'HOUSEHOLD PAPER GOODS',\n",
    "       'IMPULSE MERCHANDISE', 'INFANT APPAREL', 'INFANT CONSUMABLE HARDLINES',\n",
    "       'JEWELRY AND SUNGLASSES', 'LADIES SOCKS', 'LADIESWEAR',\n",
    "       'LARGE HOUSEHOLD GOODS', 'LAWN AND GARDEN', 'LIQUOR,WINE,BEER',\n",
    "       'MEAT - FRESH & FROZEN', 'MEDIA AND GAMING', 'MENS WEAR', 'MENSWEAR',\n",
    "       'OFFICE SUPPLIES', 'OPTICAL - FRAMES', 'OPTICAL - LENSES',\n",
    "       'OTHER DEPARTMENTS', 'PAINT AND ACCESSORIES', 'PERSONAL CARE',\n",
    "       'PETS AND SUPPLIES', 'PHARMACY OTC', 'PHARMACY RX',\n",
    "       'PLAYERS AND ELECTRONICS', 'PLUS AND MATERNITY', 'PRE PACKED DELI',\n",
    "       'PRODUCE', 'SEAFOOD', 'SEASONAL', 'SERVICE DELI', 'SHEER HOSIERY',\n",
    "       'SHOES', 'SLEEPWEAR/FOUNDATIONS', 'SPORTING GOODS',\n",
    "       'SWIMWEAR/OUTERWEAR', 'TOYS', 'WIRELESS']"
   ]
  },
  {
   "cell_type": "code",
   "execution_count": 70,
   "metadata": {
    "collapsed": false
   },
   "outputs": [],
   "source": [
    "test = transform_w_data(w_test_data)"
   ]
  },
  {
   "cell_type": "markdown",
   "metadata": {},
   "source": [
    "## Local Modeling"
   ]
  },
  {
   "cell_type": "markdown",
   "metadata": {},
   "source": [
    "### Logistic Regression"
   ]
  },
  {
   "cell_type": "code",
   "execution_count": 3,
   "metadata": {
    "collapsed": false
   },
   "outputs": [
    {
     "name": "stderr",
     "output_type": "stream",
     "text": [
      "/Users/MattKasle/Matt/.direnv/python-3.5.0/lib/python3.5/site-packages/sklearn/utils/fixes.py:64: DeprecationWarning: inspect.getargspec() is deprecated, use inspect.signature() instead\n",
      "  if 'order' in inspect.getargspec(np.copy)[0]:\n"
     ]
    }
   ],
   "source": [
    "from sklearn.cross_validation import train_test_split\n",
    "from sklearn.linear_model import LogisticRegression\n",
    "from sklearn.metrics import log_loss"
   ]
  },
  {
   "cell_type": "code",
   "execution_count": 103,
   "metadata": {
    "collapsed": false
   },
   "outputs": [
    {
     "name": "stderr",
     "output_type": "stream",
     "text": [
      "/Users/MattKasle/Matt/.direnv/python-3.5.0/lib/python3.5/site-packages/pandas/core/generic.py:2273: SettingWithCopyWarning: \n",
      "A value is trying to be set on a copy of a slice from a DataFrame.\n",
      "Try using .loc[row_indexer,col_indexer] = value instead\n",
      "\n",
      "See the caveats in the documentation: http://pandas.pydata.org/pandas-docs/stable/indexing.html#indexing-view-versus-copy\n",
      "  self[name] = value\n"
     ]
    }
   ],
   "source": [
    "mytrain, mytest = train_test_split(data, test_size = .4)\n",
    "mytrain.TripType = mytrain.TripType.astype(float)\n",
    "mytrain.Weekday = mytrain.Weekday.astype(float)  \n",
    "mytrain.NumItems = mytrain.NumItems.astype(float)                         \n",
    "mytest.TripType = mytest.TripType.astype(float)\n",
    "mytest.Weekday = mytest.Weekday.astype(float)  \n",
    "mytest.NumItems = mytest.NumItems.astype(float) "
   ]
  },
  {
   "cell_type": "code",
   "execution_count": 136,
   "metadata": {
    "collapsed": true
   },
   "outputs": [],
   "source": [
    "def model_testdata(data):\n",
    "    lr = LogisticRegression()\n",
    "    lr.fit(X = np.asarray(data[test_features]), y = np.asarray(mytrain.TripType))\n",
    "lr = LogisticRegression()\n",
    "lr.fit(X = np.asarray(mytrain[features]), y = np.asarray(mytrain.TripType))"
   ]
  },
  {
   "cell_type": "code",
   "execution_count": 138,
   "metadata": {
    "collapsed": false
   },
   "outputs": [],
   "source": [
    "predictions = lr.predict_proba(np.asarray(mytest[features]))\n",
    "predictions_notproba = lr.predict(np.asarray(mytest[features]))"
   ]
  },
  {
   "cell_type": "code",
   "execution_count": 139,
   "metadata": {
    "collapsed": true
   },
   "outputs": [],
   "source": [
    "log_loss(mytest.TripType, predictions).round(5)"
   ]
  },
  {
   "cell_type": "code",
   "execution_count": 145,
   "metadata": {
    "collapsed": false
   },
   "outputs": [
    {
     "data": {
      "text/plain": [
       "0.63263652991899655"
      ]
     },
     "execution_count": 145,
     "metadata": {},
     "output_type": "execute_result"
    }
   ],
   "source": [
    "sklearn.metrics.accuracy_score(mytest.TripType, predictions_notproba)"
   ]
  },
  {
   "cell_type": "markdown",
   "metadata": {},
   "source": [
    "### Random Forest"
   ]
  },
  {
   "cell_type": "code",
   "execution_count": 79,
   "metadata": {
    "collapsed": true
   },
   "outputs": [],
   "source": [
    "from sklearn.ensemble import RandomForestClassifier\n",
    "import sklearn"
   ]
  },
  {
   "cell_type": "code",
   "execution_count": 72,
   "metadata": {
    "collapsed": true
   },
   "outputs": [],
   "source": [
    "forest = RandomForestClassifier(n_estimators = 300, max_features=2)"
   ]
  },
  {
   "cell_type": "code",
   "execution_count": 98,
   "metadata": {
    "collapsed": false
   },
   "outputs": [],
   "source": [
    "forest = forest.fit(np.asarray(mytrain[features]), \n",
    "                    np.asarray(mytrain.TripType))"
   ]
  },
  {
   "cell_type": "code",
   "execution_count": 74,
   "metadata": {
    "collapsed": false
   },
   "outputs": [],
   "source": [
    "predictions = forest.predict_proba(np.asarray(mytest[features]))\n",
    "predictions_notproba = forest.predict(np.asarray(mytest[features]))\n",
    "log_loss(mytest.TripType, predictions).round(5)\n",
    "sklearn.metrics.accuracy_score(mytest.TripType, predictions_notproba)"
   ]
  },
  {
   "cell_type": "markdown",
   "metadata": {},
   "source": [
    "### Extra Trees "
   ]
  },
  {
   "cell_type": "code",
   "execution_count": 97,
   "metadata": {
    "collapsed": true
   },
   "outputs": [],
   "source": [
    "#from sklearn.ensemble import ExtraTreesClassifier\n",
    "#extratrees = ExtraTreesClassifier(n_estimators = 100, max_features=3)\n",
    "#extratrees = extratrees.fit(np.asarray(mytrain[features]), \n",
    "                    #np.asarray(mytrain.TripType))\n",
    "#predictions = extratrees.predict_proba(np.asarray(mytest[features]))\n",
    "#log_loss(mytest.TripType, predictions).round(5)"
   ]
  },
  {
   "cell_type": "markdown",
   "metadata": {
    "collapsed": false,
    "scrolled": true
   },
   "source": [
    "### Naive Bayes"
   ]
  },
  {
   "cell_type": "markdown",
   "metadata": {},
   "source": [
    "Naive Bayes methods are a set of supervised learning algorithms based on applying Bayes’ theorem with the “naive” assumption of independence between every pair of features. "
   ]
  },
  {
   "cell_type": "markdown",
   "metadata": {},
   "source": [
    "Can't use multinomial distribution because it needs all positive feature values, and some of mine are negative due to returns'"
   ]
  },
  {
   "cell_type": "code",
   "execution_count": 212,
   "metadata": {
    "collapsed": true
   },
   "outputs": [],
   "source": [
    "from sklearn import datasets\n",
    "from sklearn.naive_bayes import GaussianNB, BernoulliNB"
   ]
  },
  {
   "cell_type": "code",
   "execution_count": 44,
   "metadata": {
    "collapsed": false
   },
   "outputs": [],
   "source": [
    "gnb = GaussianNB()\n",
    "gnb = gnb.fit(np.asarray(mytrain[features]), \n",
    "                    np.asarray(mytrain.TripType))"
   ]
  },
  {
   "cell_type": "code",
   "execution_count": 45,
   "metadata": {
    "collapsed": true
   },
   "outputs": [],
   "source": [
    "predictions = gnb.predict_proba(np.asarray(mytest[features]))"
   ]
  },
  {
   "cell_type": "code",
   "execution_count": 54,
   "metadata": {
    "collapsed": false
   },
   "outputs": [
    {
     "data": {
      "text/plain": [
       "30.041070000000001"
      ]
     },
     "execution_count": 54,
     "metadata": {},
     "output_type": "execute_result"
    }
   ],
   "source": [
    "log_loss(mytest.TripType, predictions).round(5)"
   ]
  },
  {
   "cell_type": "markdown",
   "metadata": {},
   "source": [
    "That...didn't work"
   ]
  },
  {
   "cell_type": "code",
   "execution_count": 278,
   "metadata": {
    "collapsed": false
   },
   "outputs": [],
   "source": [
    "bnb = BernoulliNB()\n",
    "bnb = bnb.fit(np.asarray(mytrain[features]), \n",
    "                    np.asarray(mytrain.TripType))"
   ]
  },
  {
   "cell_type": "code",
   "execution_count": 279,
   "metadata": {
    "collapsed": false
   },
   "outputs": [
    {
     "data": {
      "text/plain": [
       "1.38195"
      ]
     },
     "execution_count": 279,
     "metadata": {},
     "output_type": "execute_result"
    }
   ],
   "source": [
    "predictions = bnb.predict_proba(np.asarray(mytest[test_features]))\n",
    "log_loss(mytest.TripType, predictions).round(5)"
   ]
  },
  {
   "cell_type": "markdown",
   "metadata": {},
   "source": [
    "Oh wow, that actually did work well. Hey now Bernoulli Naive Bayes."
   ]
  },
  {
   "cell_type": "markdown",
   "metadata": {},
   "source": [
    "BernoulliNB implements the naive Bayes training and classification algorithms for data that is distributed according to multivariate Bernoulli distributions; i.e., there may be multiple features but each one is assumed to be a binary-valued (Bernoulli, boolean) variable. Therefore, this class requires samples to be represented as binary-valued feature vectors; if handed any other kind of data, a BernoulliNB instance may binarize its input (depending on the binarize parameter)."
   ]
  },
  {
   "cell_type": "markdown",
   "metadata": {},
   "source": [
    "### Nearest Neighbor"
   ]
  },
  {
   "cell_type": "code",
   "execution_count": 19,
   "metadata": {
    "collapsed": true
   },
   "outputs": [],
   "source": [
    "from sklearn.neighbors import KNeighborsClassifier, RadiusNeighborsClassifier"
   ]
  },
  {
   "cell_type": "code",
   "execution_count": 25,
   "metadata": {
    "collapsed": true
   },
   "outputs": [],
   "source": [
    "knc = KNeighborsClassifier()"
   ]
  },
  {
   "cell_type": "code",
   "execution_count": 219,
   "metadata": {
    "collapsed": false
   },
   "outputs": [],
   "source": [
    "knc = knc.fit(np.asarray(mytrain[features]), \n",
    "                    np.asarray(mytrain.TripType))"
   ]
  },
  {
   "cell_type": "code",
   "execution_count": 75,
   "metadata": {
    "collapsed": false
   },
   "outputs": [
    {
     "data": {
      "text/plain": [
       "6.26328"
      ]
     },
     "execution_count": 75,
     "metadata": {},
     "output_type": "execute_result"
    }
   ],
   "source": [
    "predictions = knc.predict_proba(np.asarray(mytest[features]))\n",
    "log_loss(mytest.TripType, predictions).round(5)"
   ]
  },
  {
   "cell_type": "code",
   "execution_count": 76,
   "metadata": {
    "collapsed": true
   },
   "outputs": [],
   "source": [
    "knc = KNeighborsClassifier(algorithm='ball_tree')"
   ]
  },
  {
   "cell_type": "code",
   "execution_count": 77,
   "metadata": {
    "collapsed": false
   },
   "outputs": [
    {
     "data": {
      "text/plain": [
       "6.3121700000000001"
      ]
     },
     "execution_count": 77,
     "metadata": {},
     "output_type": "execute_result"
    }
   ],
   "source": [
    "knc = knc.fit(np.asarray(mytrain[features]), \n",
    "                    np.asarray(mytrain.TripType))\n",
    "predictions = knc.predict_proba(np.asarray(mytest[features]))\n",
    "log_loss(mytest.TripType, predictions).round(5)"
   ]
  },
  {
   "cell_type": "code",
   "execution_count": 29,
   "metadata": {
    "collapsed": true
   },
   "outputs": [],
   "source": [
    "### Linear and Quadratic Discriminant Analysis"
   ]
  },
  {
   "cell_type": "code",
   "execution_count": 67,
   "metadata": {
    "collapsed": true
   },
   "outputs": [],
   "source": [
    "from sklearn.svm import LinearSVC"
   ]
  },
  {
   "cell_type": "code",
   "execution_count": 68,
   "metadata": {
    "collapsed": true
   },
   "outputs": [],
   "source": [
    "lsvc = LinearSVC()\n",
    "lsvc = lsvc.fit(np.asarray(mytrain[features]), \n",
    "                    np.asarray(mytrain.TripType))"
   ]
  },
  {
   "cell_type": "code",
   "execution_count": 74,
   "metadata": {
    "collapsed": false
   },
   "outputs": [
    {
     "data": {
      "text/plain": [
       "4.4655800000000001"
      ]
     },
     "execution_count": 74,
     "metadata": {},
     "output_type": "execute_result"
    }
   ],
   "source": [
    "predictions = lsvc.decision_function(np.asarray(mytest[features]))\n",
    "log_loss(mytest.TripType, predictions).round(5)"
   ]
  },
  {
   "cell_type": "markdown",
   "metadata": {},
   "source": [
    "### XGBoost (eXtreme Gradient Boosting, or Boosted Trees)"
   ]
  },
  {
   "cell_type": "code",
   "execution_count": 114,
   "metadata": {
    "collapsed": true
   },
   "outputs": [],
   "source": [
    "import xgboost as xgb\n",
    "from sklearn.cross_validation import train_test_split\n",
    "from sklearn.metrics import log_loss"
   ]
  },
  {
   "cell_type": "code",
   "execution_count": 115,
   "metadata": {
    "collapsed": false
   },
   "outputs": [],
   "source": [
    "data = pd.read_csv(\"train.csv\")"
   ]
  },
  {
   "cell_type": "code",
   "execution_count": 116,
   "metadata": {
    "collapsed": false
   },
   "outputs": [],
   "source": [
    "dummy_data = fineline_dummies(data)"
   ]
  },
  {
   "cell_type": "code",
   "execution_count": 117,
   "metadata": {
    "collapsed": false
   },
   "outputs": [],
   "source": [
    "data = transform_my_data(data)"
   ]
  },
  {
   "cell_type": "code",
   "execution_count": 120,
   "metadata": {
    "collapsed": false
   },
   "outputs": [],
   "source": [
    "data = add_category_counts(data)"
   ]
  },
  {
   "cell_type": "code",
   "execution_count": 133,
   "metadata": {
    "collapsed": true
   },
   "outputs": [],
   "source": [
    "mytrain, mytest = train_test_split(data, test_size = .4)"
   ]
  },
  {
   "cell_type": "code",
   "execution_count": 134,
   "metadata": {
    "collapsed": false
   },
   "outputs": [],
   "source": [
    "mytrain_train = mytrain[features]\n",
    "mytest_train = mytest[test_features]\n",
    "mytrain_train = mytrain_train.join(dummy_data)\n",
    "mytest_train = mytest_train.join(dummy_data)"
   ]
  },
  {
   "cell_type": "code",
   "execution_count": 135,
   "metadata": {
    "collapsed": false
   },
   "outputs": [],
   "source": [
    "dtrain = xgb.DMatrix(np.asarray(mytrain_train), label = np.asarray(mytrain.TripType))\n",
    "dtest = xgb.DMatrix(np.asarray(mytest_train), label = np.asarray(mytest.TripType))"
   ]
  },
  {
   "cell_type": "code",
   "execution_count": 136,
   "metadata": {
    "collapsed": false
   },
   "outputs": [],
   "source": [
    "num_round = 200\n",
    "param = {'objective': 'multi:softprob', 'num_class':38, \n",
    "         'eval_metric': 'mlogloss', \"max_delta_step\": 1}\n",
    "watchlist = [(dtrain,'train'), (dtest, 'eval')]\n"
   ]
  },
  {
   "cell_type": "code",
   "execution_count": 137,
   "metadata": {
    "collapsed": false,
    "scrolled": true
   },
   "outputs": [
    {
     "name": "stderr",
     "output_type": "stream",
     "text": [
      "Will train until eval error hasn't decreased in 3 rounds.\n",
      "[0]\ttrain-mlogloss:3.259662\teval-mlogloss:3.266433\n",
      "[1]\ttrain-mlogloss:2.902390\teval-mlogloss:2.916641\n",
      "[2]\ttrain-mlogloss:2.568845\teval-mlogloss:2.591510\n",
      "[3]\ttrain-mlogloss:2.263130\teval-mlogloss:2.295039\n",
      "[4]\ttrain-mlogloss:1.990418\teval-mlogloss:2.032353\n",
      "[5]\ttrain-mlogloss:1.756034\teval-mlogloss:1.807672\n",
      "[6]\ttrain-mlogloss:1.561834\teval-mlogloss:1.624216\n",
      "[7]\ttrain-mlogloss:1.402185\teval-mlogloss:1.473554\n",
      "[8]\ttrain-mlogloss:1.275923\teval-mlogloss:1.355884\n",
      "[9]\ttrain-mlogloss:1.180866\teval-mlogloss:1.268394\n",
      "[10]\ttrain-mlogloss:1.106365\teval-mlogloss:1.201337\n",
      "[11]\ttrain-mlogloss:1.045933\teval-mlogloss:1.147677\n",
      "[12]\ttrain-mlogloss:0.997576\teval-mlogloss:1.105806\n",
      "[13]\ttrain-mlogloss:0.955372\teval-mlogloss:1.069839\n",
      "[14]\ttrain-mlogloss:0.919019\teval-mlogloss:1.039698\n",
      "[15]\ttrain-mlogloss:0.889150\teval-mlogloss:1.016149\n",
      "[16]\ttrain-mlogloss:0.863189\teval-mlogloss:0.996453\n",
      "[17]\ttrain-mlogloss:0.841730\teval-mlogloss:0.980214\n",
      "[18]\ttrain-mlogloss:0.820349\teval-mlogloss:0.964580\n",
      "[19]\ttrain-mlogloss:0.802659\teval-mlogloss:0.952253\n",
      "[20]\ttrain-mlogloss:0.786342\teval-mlogloss:0.940898\n",
      "[21]\ttrain-mlogloss:0.771144\teval-mlogloss:0.931128\n",
      "[22]\ttrain-mlogloss:0.758582\teval-mlogloss:0.923377\n",
      "[23]\ttrain-mlogloss:0.746406\teval-mlogloss:0.915889\n",
      "[24]\ttrain-mlogloss:0.735115\teval-mlogloss:0.909006\n",
      "[25]\ttrain-mlogloss:0.724406\teval-mlogloss:0.902905\n",
      "[26]\ttrain-mlogloss:0.714638\teval-mlogloss:0.897499\n",
      "[27]\ttrain-mlogloss:0.705036\teval-mlogloss:0.892216\n",
      "[28]\ttrain-mlogloss:0.697038\teval-mlogloss:0.888032\n",
      "[29]\ttrain-mlogloss:0.689007\teval-mlogloss:0.884105\n",
      "[30]\ttrain-mlogloss:0.681755\teval-mlogloss:0.880383\n",
      "[31]\ttrain-mlogloss:0.675109\teval-mlogloss:0.877307\n",
      "[32]\ttrain-mlogloss:0.668468\teval-mlogloss:0.874492\n",
      "[33]\ttrain-mlogloss:0.662397\teval-mlogloss:0.871839\n",
      "[34]\ttrain-mlogloss:0.656575\teval-mlogloss:0.869501\n",
      "[35]\ttrain-mlogloss:0.650503\teval-mlogloss:0.867126\n",
      "[36]\ttrain-mlogloss:0.644915\teval-mlogloss:0.865117\n",
      "[37]\ttrain-mlogloss:0.639921\teval-mlogloss:0.863204\n",
      "[38]\ttrain-mlogloss:0.635213\teval-mlogloss:0.861306\n",
      "[39]\ttrain-mlogloss:0.630479\teval-mlogloss:0.859782\n",
      "[40]\ttrain-mlogloss:0.625550\teval-mlogloss:0.858127\n",
      "[41]\ttrain-mlogloss:0.621017\teval-mlogloss:0.856703\n",
      "[42]\ttrain-mlogloss:0.616890\teval-mlogloss:0.855434\n",
      "[43]\ttrain-mlogloss:0.612521\teval-mlogloss:0.854183\n",
      "[44]\ttrain-mlogloss:0.608148\teval-mlogloss:0.852854\n",
      "[45]\ttrain-mlogloss:0.603751\teval-mlogloss:0.851666\n",
      "[46]\ttrain-mlogloss:0.600143\teval-mlogloss:0.850755\n",
      "[47]\ttrain-mlogloss:0.596420\teval-mlogloss:0.849739\n",
      "[48]\ttrain-mlogloss:0.593278\teval-mlogloss:0.848969\n",
      "[49]\ttrain-mlogloss:0.589934\teval-mlogloss:0.848265\n",
      "[50]\ttrain-mlogloss:0.586656\teval-mlogloss:0.847304\n",
      "[51]\ttrain-mlogloss:0.583336\teval-mlogloss:0.846419\n",
      "[52]\ttrain-mlogloss:0.580329\teval-mlogloss:0.845765\n",
      "[53]\ttrain-mlogloss:0.577145\teval-mlogloss:0.844910\n",
      "[54]\ttrain-mlogloss:0.574152\teval-mlogloss:0.844424\n",
      "[55]\ttrain-mlogloss:0.570580\teval-mlogloss:0.843577\n",
      "[56]\ttrain-mlogloss:0.567407\teval-mlogloss:0.843110\n",
      "[57]\ttrain-mlogloss:0.564312\teval-mlogloss:0.842182\n",
      "[58]\ttrain-mlogloss:0.561136\teval-mlogloss:0.841518\n",
      "[59]\ttrain-mlogloss:0.558141\teval-mlogloss:0.840843\n",
      "[60]\ttrain-mlogloss:0.555351\teval-mlogloss:0.840515\n",
      "[61]\ttrain-mlogloss:0.552807\teval-mlogloss:0.839921\n",
      "[62]\ttrain-mlogloss:0.550504\teval-mlogloss:0.839544\n",
      "[63]\ttrain-mlogloss:0.547480\teval-mlogloss:0.839050\n",
      "[64]\ttrain-mlogloss:0.544998\teval-mlogloss:0.838732\n",
      "[65]\ttrain-mlogloss:0.542570\teval-mlogloss:0.838481\n",
      "[66]\ttrain-mlogloss:0.540213\teval-mlogloss:0.838032\n",
      "[67]\ttrain-mlogloss:0.538156\teval-mlogloss:0.837534\n",
      "[68]\ttrain-mlogloss:0.535762\teval-mlogloss:0.837195\n",
      "[69]\ttrain-mlogloss:0.533580\teval-mlogloss:0.836924\n",
      "[70]\ttrain-mlogloss:0.530981\teval-mlogloss:0.836755\n",
      "[71]\ttrain-mlogloss:0.528937\teval-mlogloss:0.836359\n",
      "[72]\ttrain-mlogloss:0.526693\teval-mlogloss:0.835850\n",
      "[73]\ttrain-mlogloss:0.524301\teval-mlogloss:0.835534\n",
      "[74]\ttrain-mlogloss:0.522141\teval-mlogloss:0.835173\n",
      "[75]\ttrain-mlogloss:0.520003\teval-mlogloss:0.835017\n",
      "[76]\ttrain-mlogloss:0.517746\teval-mlogloss:0.834769\n",
      "[77]\ttrain-mlogloss:0.515309\teval-mlogloss:0.834491\n",
      "[78]\ttrain-mlogloss:0.513219\teval-mlogloss:0.834478\n",
      "[79]\ttrain-mlogloss:0.511057\teval-mlogloss:0.834126\n",
      "[80]\ttrain-mlogloss:0.509239\teval-mlogloss:0.833855\n",
      "[81]\ttrain-mlogloss:0.507141\teval-mlogloss:0.833394\n",
      "[82]\ttrain-mlogloss:0.504990\teval-mlogloss:0.833304\n",
      "[83]\ttrain-mlogloss:0.502852\teval-mlogloss:0.833183\n",
      "[84]\ttrain-mlogloss:0.500729\teval-mlogloss:0.832855\n",
      "[85]\ttrain-mlogloss:0.498903\teval-mlogloss:0.832701\n",
      "[86]\ttrain-mlogloss:0.497294\teval-mlogloss:0.832702\n",
      "[87]\ttrain-mlogloss:0.495499\teval-mlogloss:0.832695\n",
      "[88]\ttrain-mlogloss:0.493289\teval-mlogloss:0.832521\n",
      "[89]\ttrain-mlogloss:0.491312\teval-mlogloss:0.832330\n",
      "[90]\ttrain-mlogloss:0.489379\teval-mlogloss:0.832177\n",
      "[91]\ttrain-mlogloss:0.487523\teval-mlogloss:0.832005\n",
      "[92]\ttrain-mlogloss:0.485946\teval-mlogloss:0.831958\n",
      "[93]\ttrain-mlogloss:0.484406\teval-mlogloss:0.831943\n",
      "[94]\ttrain-mlogloss:0.482563\teval-mlogloss:0.832176\n",
      "[95]\ttrain-mlogloss:0.480881\teval-mlogloss:0.832141\n",
      "[96]\ttrain-mlogloss:0.478958\teval-mlogloss:0.832104\n",
      "Stopping. Best iteration:\n",
      "[93]\ttrain-mlogloss:0.484406\teval-mlogloss:0.831943\n",
      "\n"
     ]
    }
   ],
   "source": [
    "bst = xgb.train(param, dtrain, num_round, watchlist, \n",
    "                early_stopping_rounds=3)"
   ]
  },
  {
   "cell_type": "code",
   "execution_count": 139,
   "metadata": {
    "collapsed": false
   },
   "outputs": [],
   "source": [
    "my_test = xgb.DMatrix(np.asarray(mytest_train))\n",
    "test_predictions = bst1.predict(my_test)\n",
    "#log_loss(mytest.TripType, test_predictions).round(5)"
   ]
  },
  {
   "cell_type": "code",
   "execution_count": 138,
   "metadata": {
    "collapsed": false
   },
   "outputs": [
    {
     "name": "stderr",
     "output_type": "stream",
     "text": [
      "Will train until eval error hasn't decreased in 5 rounds.\n",
      "[0]\ttrain-merror:0.361525\teval-merror:0.370682\n",
      "[1]\ttrain-merror:0.331980\teval-merror:0.344865\n",
      "[2]\ttrain-merror:0.318915\teval-merror:0.335537\n",
      "[3]\ttrain-merror:0.309978\teval-merror:0.330154\n",
      "[4]\ttrain-merror:0.304822\teval-merror:0.326313\n",
      "[5]\ttrain-merror:0.297732\teval-merror:0.322603\n",
      "[6]\ttrain-merror:0.293272\teval-merror:0.320172\n",
      "[7]\ttrain-merror:0.288691\teval-merror:0.317873\n",
      "[8]\ttrain-merror:0.283151\teval-merror:0.315208\n",
      "[9]\ttrain-merror:0.278326\teval-merror:0.313849\n",
      "[10]\ttrain-merror:0.274807\teval-merror:0.312621\n",
      "[11]\ttrain-merror:0.272106\teval-merror:0.311863\n",
      "[12]\ttrain-merror:0.268361\teval-merror:0.310191\n",
      "[13]\ttrain-merror:0.264215\teval-merror:0.308545\n",
      "[14]\ttrain-merror:0.261027\teval-merror:0.307839\n",
      "[15]\ttrain-merror:0.257944\teval-merror:0.306376\n",
      "[16]\ttrain-merror:0.255191\teval-merror:0.305278\n",
      "[17]\ttrain-merror:0.251272\teval-merror:0.303867\n",
      "[18]\ttrain-merror:0.247979\teval-merror:0.303710\n",
      "[19]\ttrain-merror:0.245227\teval-merror:0.303763\n",
      "[20]\ttrain-merror:0.242335\teval-merror:0.303240\n",
      "[21]\ttrain-merror:0.239774\teval-merror:0.301881\n",
      "[22]\ttrain-merror:0.237353\teval-merror:0.301280\n",
      "[23]\ttrain-merror:0.234949\teval-merror:0.300392\n",
      "[24]\ttrain-merror:0.232475\teval-merror:0.299869\n",
      "[25]\ttrain-merror:0.229270\teval-merror:0.299373\n",
      "[26]\ttrain-merror:0.226901\teval-merror:0.298798\n",
      "[27]\ttrain-merror:0.224828\teval-merror:0.298354\n",
      "[28]\ttrain-merror:0.222545\teval-merror:0.297988\n",
      "[29]\ttrain-merror:0.220751\teval-merror:0.297439\n",
      "[30]\ttrain-merror:0.219009\teval-merror:0.296917\n",
      "[31]\ttrain-merror:0.216919\teval-merror:0.296708\n",
      "[32]\ttrain-merror:0.214968\teval-merror:0.296290\n",
      "[33]\ttrain-merror:0.212564\teval-merror:0.295976\n",
      "[34]\ttrain-merror:0.211065\teval-merror:0.295715\n",
      "[35]\ttrain-merror:0.210107\teval-merror:0.295610\n",
      "[36]\ttrain-merror:0.208400\teval-merror:0.295401\n",
      "[37]\ttrain-merror:0.206850\teval-merror:0.294408\n",
      "[38]\ttrain-merror:0.205038\teval-merror:0.294042\n",
      "[39]\ttrain-merror:0.203557\teval-merror:0.293467\n",
      "[40]\ttrain-merror:0.201833\teval-merror:0.292788\n",
      "[41]\ttrain-merror:0.200213\teval-merror:0.292919\n",
      "[42]\ttrain-merror:0.199011\teval-merror:0.292579\n",
      "[43]\ttrain-merror:0.197303\teval-merror:0.292605\n",
      "[44]\ttrain-merror:0.196276\teval-merror:0.292971\n",
      "[45]\ttrain-merror:0.195108\teval-merror:0.292997\n",
      "[46]\ttrain-merror:0.193401\teval-merror:0.292579\n",
      "[47]\ttrain-merror:0.192129\teval-merror:0.292396\n",
      "[48]\ttrain-merror:0.190771\teval-merror:0.292318\n",
      "[49]\ttrain-merror:0.189760\teval-merror:0.292213\n",
      "[50]\ttrain-merror:0.188558\teval-merror:0.291900\n",
      "[51]\ttrain-merror:0.187565\teval-merror:0.291508\n",
      "[52]\ttrain-merror:0.186485\teval-merror:0.291142\n",
      "[53]\ttrain-merror:0.185301\teval-merror:0.291116\n",
      "[54]\ttrain-merror:0.184325\teval-merror:0.290724\n",
      "[55]\ttrain-merror:0.183350\teval-merror:0.291116\n",
      "[56]\ttrain-merror:0.182931\teval-merror:0.291011\n",
      "[57]\ttrain-merror:0.181660\teval-merror:0.290776\n",
      "[58]\ttrain-merror:0.180615\teval-merror:0.290436\n",
      "[59]\ttrain-merror:0.180022\teval-merror:0.290358\n",
      "[60]\ttrain-merror:0.179151\teval-merror:0.290358\n",
      "[61]\ttrain-merror:0.177845\teval-merror:0.290306\n",
      "[62]\ttrain-merror:0.176660\teval-merror:0.290567\n",
      "[63]\ttrain-merror:0.176068\teval-merror:0.290776\n",
      "[64]\ttrain-merror:0.175145\teval-merror:0.290436\n",
      "[65]\ttrain-merror:0.174256\teval-merror:0.290149\n",
      "[66]\ttrain-merror:0.173159\teval-merror:0.290201\n",
      "[67]\ttrain-merror:0.172218\teval-merror:0.290802\n",
      "[68]\ttrain-merror:0.171225\teval-merror:0.290462\n",
      "[69]\ttrain-merror:0.170580\teval-merror:0.290175\n",
      "[70]\ttrain-merror:0.169396\teval-merror:0.289705\n",
      "[71]\ttrain-merror:0.168351\teval-merror:0.289470\n",
      "[72]\ttrain-merror:0.167288\teval-merror:0.289365\n",
      "[73]\ttrain-merror:0.166765\teval-merror:0.289522\n",
      "[74]\ttrain-merror:0.165807\teval-merror:0.289339\n",
      "[75]\ttrain-merror:0.165250\teval-merror:0.289391\n",
      "[76]\ttrain-merror:0.164605\teval-merror:0.289574\n",
      "[77]\ttrain-merror:0.163787\teval-merror:0.289705\n",
      "[78]\ttrain-merror:0.162933\teval-merror:0.289208\n",
      "[79]\ttrain-merror:0.162306\teval-merror:0.289443\n",
      "[80]\ttrain-merror:0.161835\teval-merror:0.289313\n",
      "[81]\ttrain-merror:0.160773\teval-merror:0.289443\n",
      "[82]\ttrain-merror:0.160233\teval-merror:0.289809\n",
      "[83]\ttrain-merror:0.159536\teval-merror:0.289652\n",
      "Stopping. Best iteration:\n",
      "[78]\ttrain-merror:0.162933\teval-merror:0.289208\n",
      "\n"
     ]
    }
   ],
   "source": [
    "##predicting percentage accuracy and individual predictions\n",
    "\n",
    "num_round = 200\n",
    "param1 = {'objective': 'multi:softmax', 'num_class':38}\n",
    "watchlist1 = [(dtrain,'train'), (dtest, 'eval')]\n",
    "\n",
    "bst1 = xgb.train(param1, dtrain, num_round, watchlist1, early_stopping_rounds=5)"
   ]
  },
  {
   "cell_type": "markdown",
   "metadata": {},
   "source": [
    "test data "
   ]
  },
  {
   "cell_type": "code",
   "execution_count": 211,
   "metadata": {
    "collapsed": true
   },
   "outputs": [],
   "source": [
    "w_test_data = pd.read_csv(\"test 2 (1).csv\")\n",
    "test = transform_w_data(w_test_data)"
   ]
  },
  {
   "cell_type": "code",
   "execution_count": 212,
   "metadata": {
    "collapsed": true
   },
   "outputs": [],
   "source": [
    "test = add_category_counts_test(test)"
   ]
  },
  {
   "cell_type": "code",
   "execution_count": 214,
   "metadata": {
    "collapsed": true
   },
   "outputs": [],
   "source": [
    "test = fineline_dummies_test(test)"
   ]
  },
  {
   "cell_type": "code",
   "execution_count": 215,
   "metadata": {
    "collapsed": false
   },
   "outputs": [],
   "source": [
    "walmart_test = xgb.DMatrix(np.asarray(test))\n",
    "predictions = bst.predict(walmart_test)"
   ]
  },
  {
   "cell_type": "code",
   "execution_count": 216,
   "metadata": {
    "collapsed": false
   },
   "outputs": [],
   "source": [
    "# remember to change .csv file before entering\n",
    "predictions_to_csv(predictions)"
   ]
  },
  {
   "cell_type": "markdown",
   "metadata": {},
   "source": [
    "Maxes for each probability type without the fineline numbers"
   ]
  },
  {
   "cell_type": "markdown",
   "metadata": {},
   "source": [
    "These are the maxes for each trip type probability using the fineline numbers"
   ]
  },
  {
   "cell_type": "markdown",
   "metadata": {},
   "source": [
    "### Without Return Column"
   ]
  },
  {
   "cell_type": "code",
   "execution_count": 85,
   "metadata": {
    "collapsed": false
   },
   "outputs": [],
   "source": [
    "data = transform_my_data(data)"
   ]
  },
  {
   "cell_type": "code",
   "execution_count": 90,
   "metadata": {
    "collapsed": true
   },
   "outputs": [],
   "source": [
    "mytrain, mytest = train_test_split(data, test_size = .4)"
   ]
  },
  {
   "cell_type": "code",
   "execution_count": 92,
   "metadata": {
    "collapsed": false
   },
   "outputs": [],
   "source": [
    "lr = LogisticRegression()\n",
    "lr.fit(X = np.asarray(mytrain[features]), y = np.asarray(mytrain.TripType))\n",
    "predictions = lr.predict_proba(np.asarray(mytest[features]))"
   ]
  },
  {
   "cell_type": "code",
   "execution_count": 93,
   "metadata": {
    "collapsed": false
   },
   "outputs": [
    {
     "data": {
      "text/plain": [
       "1.4906200000000001"
      ]
     },
     "execution_count": 93,
     "metadata": {},
     "output_type": "execute_result"
    }
   ],
   "source": [
    "log_loss(mytest.TripType, predictions).round(5)"
   ]
  },
  {
   "cell_type": "markdown",
   "metadata": {},
   "source": [
    "Ok cool, so the return column did help. Maybe I should multiply it's importance!"
   ]
  },
  {
   "cell_type": "markdown",
   "metadata": {
    "collapsed": true
   },
   "source": [
    "### Using Most Frequent Fineline Numbers"
   ]
  },
  {
   "cell_type": "code",
   "execution_count": 113,
   "metadata": {
    "collapsed": false
   },
   "outputs": [],
   "source": [
    "def fineline_dummies(original_data):\n",
    "    fineline_ranks = original_data.FinelineNumber.value_counts()\n",
    "    fineline_ranks = fineline_ranks[fineline_ranks > 500]\n",
    "    columns1 = list(fineline_ranks.index)\n",
    "    dummies = pd.get_dummies(original_data.FinelineNumber)\n",
    "    dummies = dummies[columns1]\n",
    "    data_visit = original_data[[\"VisitNumber\"]]\n",
    "    dummy_data = pd.concat([dummies, data_visit], axis=1)\n",
    "    dummy_data = dummy_data.groupby(\"VisitNumber\")\n",
    "    dummy_data = dummy_data.aggregate(np.sum)\n",
    "    return dummy_data\n",
    "\n",
    "def fineline_dummies_test(test):\n",
    "    data1 = pd.read_csv(\"train.csv\")\n",
    "    fineline_ranks = data1.FinelineNumber.value_counts()\n",
    "    fineline_ranks = fineline_ranks[fineline_ranks > 500]\n",
    "    columns1 = list(fineline_ranks.index)\n",
    "    data1 = pd.read_csv(\"test 2 (1).csv\")\n",
    "    dummies = pd.get_dummies(data1.FinelineNumber)\n",
    "    dummies = dummies[columns1]\n",
    "    data_visit = data1[[\"VisitNumber\"]]\n",
    "    dummy_data = pd.concat([dummies, data_visit], axis=1)\n",
    "    dummy_data = dummy_data.groupby(\"VisitNumber\")\n",
    "    dummy_data = dummy_data.aggregate(np.sum)\n",
    "    test = test.join(dummy_data)\n",
    "    return test"
   ]
  },
  {
   "cell_type": "markdown",
   "metadata": {},
   "source": [
    "### Category Count Feature"
   ]
  },
  {
   "cell_type": "code",
   "execution_count": 65,
   "metadata": {
    "collapsed": true
   },
   "outputs": [],
   "source": [
    "data = pd.read_csv(\"train.csv\")\n",
    "data = transform_my_data(data)"
   ]
  },
  {
   "cell_type": "code",
   "execution_count": 119,
   "metadata": {
    "collapsed": false
   },
   "outputs": [],
   "source": [
    "def add_category_counts(data):\n",
    "    alist = []\n",
    "    for array in np.asarray(data.iloc[:,4:]):\n",
    "        count = 0\n",
    "        for item in array:\n",
    "            if item > 0:\n",
    "                count += 1\n",
    "        alist.append(count)\n",
    "    cat_counts = pd.DataFrame(alist)\n",
    "    cat_counts = cat_counts.rename(columns={0:\"CategoryCount\"})\n",
    "    cat_counts = cat_counts.set_index(data.index)\n",
    "    data.insert(4, 'CategoryCounts', cat_counts)\n",
    "    return data\n",
    "\n",
    "def add_category_counts_test(data):\n",
    "    alist = []\n",
    "    for array in np.asarray(data.iloc[:,3:]):\n",
    "        count = 0\n",
    "        for item in array:\n",
    "            if item > 0:\n",
    "                count += 1\n",
    "        alist.append(count)\n",
    "    cat_counts = pd.DataFrame(alist)\n",
    "    cat_counts = cat_counts.rename(columns={0:\"CategoryCount\"})\n",
    "    cat_counts = cat_counts.set_index(data.index)\n",
    "    data.insert(3, 'CategoryCounts', cat_counts)\n",
    "    return data"
   ]
  },
  {
   "cell_type": "code",
   "execution_count": null,
   "metadata": {
    "collapsed": true
   },
   "outputs": [],
   "source": []
  },
  {
   "cell_type": "markdown",
   "metadata": {},
   "source": [
    "## Modeling the Test Data and Exporting to CSV"
   ]
  },
  {
   "cell_type": "markdown",
   "metadata": {},
   "source": [
    "logistic regression"
   ]
  },
  {
   "cell_type": "code",
   "execution_count": 65,
   "metadata": {
    "collapsed": false
   },
   "outputs": [],
   "source": [
    "test_predictions = lr.predict_proba(np.asarray(test[test_features]))"
   ]
  },
  {
   "cell_type": "code",
   "execution_count": 33,
   "metadata": {
    "collapsed": false
   },
   "outputs": [],
   "source": [
    "def predictions_to_csv(test_predictions):\n",
    "    test_predictions = pd.DataFrame(test_predictions)\n",
    "    test_indexes = test.index\n",
    "    test_predictions = test_predictions.rename(columns = {0:\"TripType_3\", 1: \"TripType_4\", 2: \"TripType_5\", 3: \"TripType_6\", \n",
    "                4: \"TripType_7\", 5: \"TripType_8\", 6: \"TripType_9\", 7: \"TripType_12\", 8: \"TripType_14\", \n",
    "                9: \"TripType_15\", 10: \"TripType_18\", 11: \"TripType_19\", 12: \"TripType_20\", 13: \"TripType_21\",\n",
    "                14: \"TripType_22\", 15: \"TripType_23\", 16: \"TripType_24\", 17: \"TripType_25\", 18: \"TripType_26\", \n",
    "                19: \"TripType_27\", 20: \"TripType_28\", 21: \"TripType_29\", 22: \"TripType_30\", 23: \"TripType_31\", \n",
    "                24: \"TripType_32\", 25: \"TripType_33\", 26: \"TripType_34\", 27: \"TripType_35\", 28: \"TripType_36\", \n",
    "                29: \"TripType_37\", 30: \"TripType_38\", 31: \"TripType_39\", 32: \"TripType_40\", 33: \"TripType_41\", \n",
    "                34: \"TripType_42\", 35: \"TripType_43\", 36: \"TripType_44\", 37: \"TripType_999\"})\n",
    "    test_predictions.insert(0, 'VisitNumber', test_indexes)\n",
    "    return test_predictions.to_csv(\"submissions/fifth_fineline_xgb.csv\", index=False)"
   ]
  },
  {
   "cell_type": "code",
   "execution_count": 120,
   "metadata": {
    "collapsed": false
   },
   "outputs": [],
   "source": [
    "predictions.to_csv(\"submissions/fourth_fineline_xgb.csv\", index=False)"
   ]
  },
  {
   "cell_type": "markdown",
   "metadata": {},
   "source": [
    "random forest, 300 classifiers"
   ]
  },
  {
   "cell_type": "code",
   "execution_count": 146,
   "metadata": {
    "collapsed": false
   },
   "outputs": [],
   "source": [
    "test_predictions = forest.predict_proba(np.asarray(test[test_features]))"
   ]
  },
  {
   "cell_type": "code",
   "execution_count": 147,
   "metadata": {
    "collapsed": false
   },
   "outputs": [],
   "source": [
    "# remember to change .csv file before entering\n",
    "predictions_to_csv(test_predictions)"
   ]
  },
  {
   "cell_type": "markdown",
   "metadata": {},
   "source": [
    "## Analyzing Results"
   ]
  },
  {
   "cell_type": "code",
   "execution_count": 528,
   "metadata": {
    "collapsed": false
   },
   "outputs": [
    {
     "data": {
      "text/plain": [
       "<matplotlib.text.Text at 0x24d7e4f28>"
      ]
     },
     "execution_count": 528,
     "metadata": {},
     "output_type": "execute_result"
    },
    {
     "data": {
      "image/png": "[encoded data removed]",
      "text/plain": [
       "<matplotlib.figure.Figure at 0x23c4f6fd0>"
      ]
     },
     "metadata": {},
     "output_type": "display_data"
    }
   ],
   "source": [
    "x = forest.feature_importances_\n",
    "graphing_results = pd.DataFrame(forest.feature_importances_).sort_index()\n",
    "graphing_results[\"Features\"] = features\n",
    "graphing_results = graphing_results.set_index(\"Features\").sort_values(by=0, ascending=True)\n",
    "x = graphing_results.plot(kind=\"barh\", figsize=(10,20), rot=0)\n",
    "plt.rc('xtick', labelsize=10)\n",
    "plt.rc('ytick', labelsize=10)\n",
    "plt.title(\"Feature Importance in Random Forest\", size=20)"
   ]
  },
  {
   "cell_type": "code",
   "execution_count": null,
   "metadata": {
    "collapsed": true
   },
   "outputs": [],
   "source": [
    "non_departments = x[0:3]\n",
    "departments = x[4:]"
   ]
  },
  {
   "cell_type": "code",
   "execution_count": 532,
   "metadata": {
    "collapsed": false
   },
   "outputs": [
    {
     "data": {
      "text/plain": [
       "<matplotlib.text.Text at 0x26b9436a0>"
      ]
     },
     "execution_count": 532,
     "metadata": {},
     "output_type": "execute_result"
    },
    {
     "data": {
      "image/png": "[encoded data removed]",
      "text/plain": [
       "<matplotlib.figure.Figure at 0x267470438>"
      ]
     },
     "metadata": {},
     "output_type": "display_data"
    }
   ],
   "source": [
    "departments = np.sum(departments)\n",
    "department_data = np.append(non_departments, departments)\n",
    "\n",
    "graphing_department = pd.DataFrame(department_data).sort_index()\n",
    "graphing_department[\"Features\"] = [\"DayofWeek\", \"NumItems\", \"Return\", \"DepartmentofPurchase\"]\n",
    "graphing_department = graphing_department.set_index(\"Features\").sort_values(by=0, ascending=False)\n",
    "\n",
    "x = graphing_department.plot(kind=\"bar\", figsize=(10,5), rot=0, color=\"darkred\", legend=False)\n",
    "plt.rc('xtick', labelsize=13)\n",
    "plt.rc('ytick', labelsize=10)\n",
    "plt.title(\"Feature Importance in Random Forest\", size=20)"
   ]
  },
  {
   "cell_type": "code",
   "execution_count": 164,
   "metadata": {
    "collapsed": false
   },
   "outputs": [],
   "source": [
    "test_predictions = pd.DataFrame(test_predictions)\n",
    "mytest_answers = mytest[[\"TripType\"]]\n",
    "mytest_answers = mytest_answers.rename(columns={\"TripType\": \"WalmartClass\"})\n",
    "test_predictions = test_predictions.set_index(mytest_answers.index)\n",
    "test_predictions = test_predictions.rename(columns={0: \"Prediction\"})\n",
    "test_predictions = test_predictions.join(mytest_answers)\n",
    "test_predictions[\"Prediction\"] = test_predictions[\"Prediction\"].map({0:3, 1:4, 2:5, 3:6, 4:7, 5:8, 6:9, 7:12, 8:14, 9:15,  \n",
    "                                         #10:18, 11:19, 12:20, 13:21, 14:22, 15:23, 16:24, 17:25, 18:26,  \n",
    "                                         #19:27, 20:28, 21:29, 22:30, 23:31, 24:32, 25:33, 26:34, 27:35, \n",
    "                                         #28:36, 29:37, 30:38, 31:39, 32:40, 33:41, 34:42, 35:43, 36:44, 37:999})\n",
    "test_predictions[\"WalmartClass\"] = test_predictions[\"WalmartClass\"].map({0:3, 1:4, 2:5, 3:6, 4:7, 5:8, 6:9, 7:12, 8:14, 9:15,  \n",
    "                                         #10:18, 11:19, 12:20, 13:21, 14:22, 15:23, 16:24, 17:25, 18:26,  \n",
    "                                         #19:27, 20:28, 21:29, 22:30, 23:31, 24:32, 25:33, 26:34, 27:35, \n",
    "                                         #28:36, 29:37, 30:38, 31:39, 32:40, 33:41, 34:42, 35:43, 36:44, 37:999})\n",
    "test_predictions = test_predictions[[\"WalmartClass\", \"Prediction\"]]"
   ]
  },
  {
   "cell_type": "code",
   "execution_count": 172,
   "metadata": {
    "collapsed": false
   },
   "outputs": [],
   "source": [
    "alist = []\n",
    "for x, y in np.asarray(test_predictions):\n",
    "    count = 0\n",
    "    if x == y:\n",
    "        count = 1\n",
    "    alist.append(count)"
   ]
  },
  {
   "cell_type": "code",
   "execution_count": 173,
   "metadata": {
    "collapsed": false
   },
   "outputs": [],
   "source": [
    "correct = pd.DataFrame(alist)\n",
    "correct = correct.set_index(mytest_answers.index)\n",
    "correct = correct.rename(columns={0: \"Result\"})\n",
    "test_predictions = test_predictions.join(correct)\n",
    "prediction_accuracy = test_predictions.set_index(test_predictions[\"WalmartClass\"])\n",
    "prediction_accuracy = prediction_accuracy[[\"Result\"]]"
   ]
  },
  {
   "cell_type": "code",
   "execution_count": 174,
   "metadata": {
    "collapsed": false
   },
   "outputs": [],
   "source": [
    "value_counts = pd.DataFrame(prediction_accuracy.index.value_counts())"
   ]
  },
  {
   "cell_type": "code",
   "execution_count": 177,
   "metadata": {
    "collapsed": false
   },
   "outputs": [],
   "source": [
    "prediction_accuracy_groupby = test_predictions.groupby(\"WalmartClass\")\n",
    "prediction_accuracy_precentage = prediction_accuracy_groupby.agg({'WalmartClass': np.max,\n",
    "                                                                  \"Prediction\": np.max,\n",
    "                                                                  \"Result\": np.sum})"
   ]
  },
  {
   "cell_type": "code",
   "execution_count": 178,
   "metadata": {
    "collapsed": false
   },
   "outputs": [],
   "source": [
    "prediction_accuracy_precentage = prediction_accuracy_precentage[[\"Result\"]]"
   ]
  },
  {
   "cell_type": "code",
   "execution_count": 179,
   "metadata": {
    "collapsed": false
   },
   "outputs": [
    {
     "data": {
      "text/html": [
       "<div>\n",
       "<table border=\"1\" class=\"dataframe\">\n",
       "  <thead>\n",
       "    <tr style=\"text-align: right;\">\n",
       "      <th></th>\n",
       "      <th>Result</th>\n",
       "    </tr>\n",
       "    <tr>\n",
       "      <th>WalmartClass</th>\n",
       "      <th></th>\n",
       "    </tr>\n",
       "  </thead>\n",
       "  <tbody>\n",
       "    <tr>\n",
       "      <th>3</th>\n",
       "      <td>1358</td>\n",
       "    </tr>\n",
       "    <tr>\n",
       "      <th>4</th>\n",
       "      <td>5</td>\n",
       "    </tr>\n",
       "    <tr>\n",
       "      <th>5</th>\n",
       "      <td>1541</td>\n",
       "    </tr>\n",
       "    <tr>\n",
       "      <th>6</th>\n",
       "      <td>421</td>\n",
       "    </tr>\n",
       "    <tr>\n",
       "      <th>7</th>\n",
       "      <td>1653</td>\n",
       "    </tr>\n",
       "  </tbody>\n",
       "</table>\n",
       "</div>"
      ],
      "text/plain": [
       "              Result\n",
       "WalmartClass        \n",
       "3               1358\n",
       "4                  5\n",
       "5               1541\n",
       "6                421\n",
       "7               1653"
      ]
     },
     "execution_count": 179,
     "metadata": {},
     "output_type": "execute_result"
    }
   ],
   "source": [
    "prediction_accuracy_precentage.head()"
   ]
  },
  {
   "cell_type": "code",
   "execution_count": 180,
   "metadata": {
    "collapsed": false
   },
   "outputs": [],
   "source": [
    "value_counts = value_counts.sort_index()"
   ]
  },
  {
   "cell_type": "code",
   "execution_count": 181,
   "metadata": {
    "collapsed": true
   },
   "outputs": [],
   "source": [
    "prediction_accuracy_precentage = prediction_accuracy_precentage.join(value_counts)"
   ]
  },
  {
   "cell_type": "code",
   "execution_count": 182,
   "metadata": {
    "collapsed": false
   },
   "outputs": [],
   "source": [
    "prediction_accuracy_precentage[\"Accuracy\"] = prediction_accuracy_precentage.Result / prediction_accuracy_precentage.WalmartClass"
   ]
  },
  {
   "cell_type": "code",
   "execution_count": 183,
   "metadata": {
    "collapsed": false
   },
   "outputs": [],
   "source": [
    "prediction_accuracy_precentage = prediction_accuracy_precentage.sort_values(by=\"Accuracy\", ascending=True)"
   ]
  },
  {
   "cell_type": "code",
   "execution_count": 184,
   "metadata": {
    "collapsed": false
   },
   "outputs": [
    {
     "data": {
      "text/plain": [
       "<matplotlib.text.Text at 0x107da59b0>"
      ]
     },
     "execution_count": 184,
     "metadata": {},
     "output_type": "execute_result"
    },
    {
     "data": {
      "image/png": "[encoded data removed]",
      "text/plain": [
       "<matplotlib.figure.Figure at 0x112026940>"
      ]
     },
     "metadata": {},
     "output_type": "display_data"
    }
   ],
   "source": [
    "ax = prediction_accuracy_precentage[[\"Accuracy\"]].plot(kind=\"barh\", figsize=(10,10))\n",
    "plt.title(\"Predictions Correct by Class\", size=15)"
   ]
  },
  {
   "cell_type": "markdown",
   "metadata": {},
   "source": [
    "Thoughts: Why are there almost no TripType 8 occurences?"
   ]
  },
  {
   "cell_type": "code",
   "execution_count": 220,
   "metadata": {
    "collapsed": false
   },
   "outputs": [
    {
     "data": {
      "text/plain": [
       "<matplotlib.text.Text at 0x15800fa20>"
      ]
     },
     "execution_count": 220,
     "metadata": {},
     "output_type": "execute_result"
    },
    {
     "data": {
      "image/png": "[encoded data removed]",
      "text/plain": [
       "<matplotlib.figure.Figure at 0x157ff6c88>"
      ]
     },
     "metadata": {},
     "output_type": "display_data"
    }
   ],
   "source": [
    "ax = prediction_accuracy_precentage_occurences[[\"WalmartClass\"]].plot(kind=\"barh\", figsize=(10,10))\n",
    "plt.title(\"Frequency of Trip Classifications\", size=15)"
   ]
  },
  {
   "cell_type": "code",
   "execution_count": 244,
   "metadata": {
    "collapsed": false
   },
   "outputs": [
    {
     "data": {
      "text/plain": [
       "<matplotlib.text.Text at 0x15912b898>"
      ]
     },
     "execution_count": 244,
     "metadata": {},
     "output_type": "execute_result"
    },
    {
     "data": {
      "image/png": "[encoded data removed]",
      "text/plain": [
       "<matplotlib.figure.Figure at 0x159618518>"
      ]
     },
     "metadata": {},
     "output_type": "display_data"
    }
   ],
   "source": [
    "prediction_accuracy_precentage_occurences = prediction_accuracy_precentage.sort_values(\"WalmartClass\")\n",
    "ax = prediction_accuracy_precentage_occurences[[\"Accuracy\"]].plot(kind=\"barh\", figsize=(10,10))\n",
    "average_correct = prediction_accuracy_precentage[\"Result\"].sum() / prediction_accuracy_precentage[\"WalmartClass\"].sum()\n",
    "plt.title(\"Prediction Accuracy ordered by Occurences\", size=15)\n",
    "plt.vlines(average_correct, -1, 40, color=\"red\", linestyle=\"dotted\")\n",
    "ax.legend([\"Average\", \"Accuracy\"], loc=4)\n",
    "ax.set_ylabel(\"Walmart Trip Type\")"
   ]
  },
  {
   "cell_type": "code",
   "execution_count": 304,
   "metadata": {
    "collapsed": false
   },
   "outputs": [],
   "source": [
    "prediction_accuracy_precentage_accuracy = prediction_accuracy_precentage[\"Accuracy\"]"
   ]
  },
  {
   "cell_type": "code",
   "execution_count": 287,
   "metadata": {
    "collapsed": false
   },
   "outputs": [],
   "source": [
    "percentages = [0.0, 0.2, 0.4, 0.6, 0.8, 1.0]"
   ]
  },
  {
   "cell_type": "code",
   "execution_count": 270,
   "metadata": {
    "collapsed": false
   },
   "outputs": [],
   "source": []
  },
  {
   "cell_type": "code",
   "execution_count": 350,
   "metadata": {
    "collapsed": false
   },
   "outputs": [],
   "source": []
  },
  {
   "cell_type": "code",
   "execution_count": 357,
   "metadata": {
    "collapsed": false
   },
   "outputs": [],
   "source": []
  },
  {
   "cell_type": "code",
   "execution_count": 393,
   "metadata": {
    "collapsed": false
   },
   "outputs": [
    {
     "data": {
      "text/plain": [
       "[<matplotlib.text.Text at 0x159d95978>,\n",
       " <matplotlib.text.Text at 0x15945ea20>,\n",
       " <matplotlib.text.Text at 0x159d8ff98>,\n",
       " <matplotlib.text.Text at 0x159457e48>,\n",
       " <matplotlib.text.Text at 0x1591d95c0>,\n",
       " <matplotlib.text.Text at 0x1591d9ef0>,\n",
       " <matplotlib.text.Text at 0x159d9f128>,\n",
       " <matplotlib.text.Text at 0x158b43cf8>,\n",
       " <matplotlib.text.Text at 0x158b43860>]"
      ]
     },
     "execution_count": 393,
     "metadata": {},
     "output_type": "execute_result"
    },
    {
     "data": {
      "image/png": "[encoded data removed]",
      "text/plain": [
       "<matplotlib.figure.Figure at 0x159b63160>"
      ]
     },
     "metadata": {},
     "output_type": "display_data"
    }
   ],
   "source": [
    "alist = []\n",
    "for x in prediction_accuracy_precentage_accuracy:\n",
    "    alist.append(x)\n",
    "\n",
    "alist = [[x] for x in alist]\n",
    "accuracies = np.asarray(alist)\n",
    "x = prediction_accuracy_precentage[[\"Accuracy\"]].sort_index().index.astype(str)\n",
    "\n",
    "fig, ax = plt.subplots()\n",
    "heatmap = plt.pcolor(accuracies, cmap=plt.cm.coolwarm)\n",
    "ax.set_yticklabels(x, minor=False)"
   ]
  },
  {
   "cell_type": "code",
   "execution_count": 271,
   "metadata": {
    "collapsed": false
   },
   "outputs": [
    {
     "data": {
      "text/plain": [
       "array([2000, 2001, 2002, 2003, 2004, 2005, 2006, 2007, 2008, 2009, 2010,\n",
       "       2011, 2012, 2013, 2014])"
      ]
     },
     "execution_count": 271,
     "metadata": {},
     "output_type": "execute_result"
    }
   ],
   "source": [
    "years"
   ]
  },
  {
   "cell_type": "code",
   "execution_count": 430,
   "metadata": {
    "collapsed": false
   },
   "outputs": [
    {
     "data": {
      "text/html": [
       "<div>\n",
       "<table border=\"1\" class=\"dataframe\">\n",
       "  <thead>\n",
       "    <tr style=\"text-align: right;\">\n",
       "      <th></th>\n",
       "      <th>TripType</th>\n",
       "    </tr>\n",
       "    <tr>\n",
       "      <th>VisitNumber</th>\n",
       "      <th></th>\n",
       "    </tr>\n",
       "  </thead>\n",
       "  <tbody>\n",
       "    <tr>\n",
       "      <th>2154</th>\n",
       "      <td>8</td>\n",
       "    </tr>\n",
       "    <tr>\n",
       "      <th>12127</th>\n",
       "      <td>8</td>\n",
       "    </tr>\n",
       "    <tr>\n",
       "      <th>25078</th>\n",
       "      <td>8</td>\n",
       "    </tr>\n",
       "    <tr>\n",
       "      <th>54761</th>\n",
       "      <td>8</td>\n",
       "    </tr>\n",
       "  </tbody>\n",
       "</table>\n",
       "</div>"
      ],
      "text/plain": [
       "             TripType\n",
       "VisitNumber          \n",
       "2154                8\n",
       "12127               8\n",
       "25078               8\n",
       "54761               8"
      ]
     },
     "execution_count": 430,
     "metadata": {},
     "output_type": "execute_result"
    }
   ],
   "source": [
    "data_triptype[data_triptype.TripType == 8]"
   ]
  },
  {
   "cell_type": "code",
   "execution_count": null,
   "metadata": {
    "collapsed": false
   },
   "outputs": [],
   "source": [
    "#graph = data_triptype.plot(kind=\"bar\", figsize=(10, 5), color=\"midnightblue\")\n",
    "#graph.set_title(\"Number of Occurences by trip type\")"
   ]
  },
  {
   "cell_type": "code",
   "execution_count": 105,
   "metadata": {
    "collapsed": false
   },
   "outputs": [],
   "source": [
    "data = pd.read_csv(\"train.csv\")"
   ]
  },
  {
   "cell_type": "code",
   "execution_count": 103,
   "metadata": {
    "collapsed": false
   },
   "outputs": [],
   "source": [
    "data1 = transform_my_data(data)"
   ]
  },
  {
   "cell_type": "code",
   "execution_count": 106,
   "metadata": {
    "collapsed": false
   },
   "outputs": [
    {
     "data": {
      "text/html": [
       "<div>\n",
       "<table border=\"1\" class=\"dataframe\">\n",
       "  <thead>\n",
       "    <tr style=\"text-align: right;\">\n",
       "      <th></th>\n",
       "      <th>TripType</th>\n",
       "      <th>VisitNumber</th>\n",
       "      <th>Weekday</th>\n",
       "      <th>Upc</th>\n",
       "      <th>ScanCount</th>\n",
       "      <th>DepartmentDescription</th>\n",
       "      <th>FinelineNumber</th>\n",
       "    </tr>\n",
       "  </thead>\n",
       "  <tbody>\n",
       "    <tr>\n",
       "      <th>0</th>\n",
       "      <td>999</td>\n",
       "      <td>5</td>\n",
       "      <td>Friday</td>\n",
       "      <td>68113152929</td>\n",
       "      <td>-1</td>\n",
       "      <td>FINANCIAL SERVICES</td>\n",
       "      <td>1000</td>\n",
       "    </tr>\n",
       "    <tr>\n",
       "      <th>1</th>\n",
       "      <td>30</td>\n",
       "      <td>7</td>\n",
       "      <td>Friday</td>\n",
       "      <td>60538815980</td>\n",
       "      <td>1</td>\n",
       "      <td>SHOES</td>\n",
       "      <td>8931</td>\n",
       "    </tr>\n",
       "    <tr>\n",
       "      <th>2</th>\n",
       "      <td>30</td>\n",
       "      <td>7</td>\n",
       "      <td>Friday</td>\n",
       "      <td>7410811099</td>\n",
       "      <td>1</td>\n",
       "      <td>PERSONAL CARE</td>\n",
       "      <td>4504</td>\n",
       "    </tr>\n",
       "    <tr>\n",
       "      <th>3</th>\n",
       "      <td>26</td>\n",
       "      <td>8</td>\n",
       "      <td>Friday</td>\n",
       "      <td>2238403510</td>\n",
       "      <td>2</td>\n",
       "      <td>PAINT AND ACCESSORIES</td>\n",
       "      <td>3565</td>\n",
       "    </tr>\n",
       "    <tr>\n",
       "      <th>4</th>\n",
       "      <td>26</td>\n",
       "      <td>8</td>\n",
       "      <td>Friday</td>\n",
       "      <td>2006613744</td>\n",
       "      <td>2</td>\n",
       "      <td>PAINT AND ACCESSORIES</td>\n",
       "      <td>1017</td>\n",
       "    </tr>\n",
       "  </tbody>\n",
       "</table>\n",
       "</div>"
      ],
      "text/plain": [
       "   TripType  VisitNumber Weekday          Upc  ScanCount  \\\n",
       "0       999            5  Friday  68113152929         -1   \n",
       "1        30            7  Friday  60538815980          1   \n",
       "2        30            7  Friday   7410811099          1   \n",
       "3        26            8  Friday   2238403510          2   \n",
       "4        26            8  Friday   2006613744          2   \n",
       "\n",
       "   DepartmentDescription  FinelineNumber  \n",
       "0     FINANCIAL SERVICES            1000  \n",
       "1                  SHOES            8931  \n",
       "2          PERSONAL CARE            4504  \n",
       "3  PAINT AND ACCESSORIES            3565  \n",
       "4  PAINT AND ACCESSORIES            1017  "
      ]
     },
     "execution_count": 106,
     "metadata": {},
     "output_type": "execute_result"
    }
   ],
   "source": [
    "data.head()"
   ]
  },
  {
   "cell_type": "code",
   "execution_count": 107,
   "metadata": {
    "collapsed": false
   },
   "outputs": [
    {
     "data": {
      "text/html": [
       "<div>\n",
       "<table border=\"1\" class=\"dataframe\">\n",
       "  <thead>\n",
       "    <tr style=\"text-align: right;\">\n",
       "      <th></th>\n",
       "      <th>TripType</th>\n",
       "      <th>Weekday</th>\n",
       "      <th>NumItems</th>\n",
       "      <th>Return</th>\n",
       "      <th>1-HR PHOTO</th>\n",
       "      <th>ACCESSORIES</th>\n",
       "      <th>AUTOMOTIVE</th>\n",
       "      <th>BAKERY</th>\n",
       "      <th>BATH AND SHOWER</th>\n",
       "      <th>BEAUTY</th>\n",
       "      <th>...</th>\n",
       "      <th>SEAFOOD</th>\n",
       "      <th>SEASONAL</th>\n",
       "      <th>SERVICE DELI</th>\n",
       "      <th>SHEER HOSIERY</th>\n",
       "      <th>SHOES</th>\n",
       "      <th>SLEEPWEAR/FOUNDATIONS</th>\n",
       "      <th>SPORTING GOODS</th>\n",
       "      <th>SWIMWEAR/OUTERWEAR</th>\n",
       "      <th>TOYS</th>\n",
       "      <th>WIRELESS</th>\n",
       "    </tr>\n",
       "    <tr>\n",
       "      <th>VisitNumber</th>\n",
       "      <th></th>\n",
       "      <th></th>\n",
       "      <th></th>\n",
       "      <th></th>\n",
       "      <th></th>\n",
       "      <th></th>\n",
       "      <th></th>\n",
       "      <th></th>\n",
       "      <th></th>\n",
       "      <th></th>\n",
       "      <th></th>\n",
       "      <th></th>\n",
       "      <th></th>\n",
       "      <th></th>\n",
       "      <th></th>\n",
       "      <th></th>\n",
       "      <th></th>\n",
       "      <th></th>\n",
       "      <th></th>\n",
       "      <th></th>\n",
       "      <th></th>\n",
       "    </tr>\n",
       "  </thead>\n",
       "  <tbody>\n",
       "    <tr>\n",
       "      <th>5</th>\n",
       "      <td>999</td>\n",
       "      <td>5</td>\n",
       "      <td>-1</td>\n",
       "      <td>1</td>\n",
       "      <td>0</td>\n",
       "      <td>0</td>\n",
       "      <td>0</td>\n",
       "      <td>0</td>\n",
       "      <td>0</td>\n",
       "      <td>0</td>\n",
       "      <td>...</td>\n",
       "      <td>0</td>\n",
       "      <td>0</td>\n",
       "      <td>0</td>\n",
       "      <td>0</td>\n",
       "      <td>0</td>\n",
       "      <td>0</td>\n",
       "      <td>0</td>\n",
       "      <td>0</td>\n",
       "      <td>0</td>\n",
       "      <td>0</td>\n",
       "    </tr>\n",
       "    <tr>\n",
       "      <th>7</th>\n",
       "      <td>30</td>\n",
       "      <td>5</td>\n",
       "      <td>2</td>\n",
       "      <td>0</td>\n",
       "      <td>0</td>\n",
       "      <td>0</td>\n",
       "      <td>0</td>\n",
       "      <td>0</td>\n",
       "      <td>0</td>\n",
       "      <td>0</td>\n",
       "      <td>...</td>\n",
       "      <td>0</td>\n",
       "      <td>0</td>\n",
       "      <td>0</td>\n",
       "      <td>0</td>\n",
       "      <td>1</td>\n",
       "      <td>0</td>\n",
       "      <td>0</td>\n",
       "      <td>0</td>\n",
       "      <td>0</td>\n",
       "      <td>0</td>\n",
       "    </tr>\n",
       "    <tr>\n",
       "      <th>8</th>\n",
       "      <td>26</td>\n",
       "      <td>5</td>\n",
       "      <td>28</td>\n",
       "      <td>1</td>\n",
       "      <td>0</td>\n",
       "      <td>0</td>\n",
       "      <td>0</td>\n",
       "      <td>0</td>\n",
       "      <td>0</td>\n",
       "      <td>0</td>\n",
       "      <td>...</td>\n",
       "      <td>0</td>\n",
       "      <td>0</td>\n",
       "      <td>0</td>\n",
       "      <td>0</td>\n",
       "      <td>0</td>\n",
       "      <td>0</td>\n",
       "      <td>0</td>\n",
       "      <td>0</td>\n",
       "      <td>0</td>\n",
       "      <td>0</td>\n",
       "    </tr>\n",
       "    <tr>\n",
       "      <th>9</th>\n",
       "      <td>8</td>\n",
       "      <td>5</td>\n",
       "      <td>3</td>\n",
       "      <td>0</td>\n",
       "      <td>0</td>\n",
       "      <td>0</td>\n",
       "      <td>0</td>\n",
       "      <td>0</td>\n",
       "      <td>0</td>\n",
       "      <td>0</td>\n",
       "      <td>...</td>\n",
       "      <td>0</td>\n",
       "      <td>0</td>\n",
       "      <td>0</td>\n",
       "      <td>0</td>\n",
       "      <td>0</td>\n",
       "      <td>0</td>\n",
       "      <td>0</td>\n",
       "      <td>0</td>\n",
       "      <td>0</td>\n",
       "      <td>0</td>\n",
       "    </tr>\n",
       "    <tr>\n",
       "      <th>10</th>\n",
       "      <td>8</td>\n",
       "      <td>5</td>\n",
       "      <td>3</td>\n",
       "      <td>0</td>\n",
       "      <td>0</td>\n",
       "      <td>0</td>\n",
       "      <td>0</td>\n",
       "      <td>0</td>\n",
       "      <td>0</td>\n",
       "      <td>0</td>\n",
       "      <td>...</td>\n",
       "      <td>0</td>\n",
       "      <td>0</td>\n",
       "      <td>0</td>\n",
       "      <td>0</td>\n",
       "      <td>0</td>\n",
       "      <td>0</td>\n",
       "      <td>0</td>\n",
       "      <td>0</td>\n",
       "      <td>0</td>\n",
       "      <td>0</td>\n",
       "    </tr>\n",
       "  </tbody>\n",
       "</table>\n",
       "<p>5 rows × 72 columns</p>\n",
       "</div>"
      ],
      "text/plain": [
       "             TripType  Weekday  NumItems  Return  1-HR PHOTO  ACCESSORIES  \\\n",
       "VisitNumber                                                                 \n",
       "5                 999        5        -1       1           0            0   \n",
       "7                  30        5         2       0           0            0   \n",
       "8                  26        5        28       1           0            0   \n",
       "9                   8        5         3       0           0            0   \n",
       "10                  8        5         3       0           0            0   \n",
       "\n",
       "             AUTOMOTIVE  BAKERY  BATH AND SHOWER  BEAUTY    ...     SEAFOOD  \\\n",
       "VisitNumber                                                 ...               \n",
       "5                     0       0                0       0    ...           0   \n",
       "7                     0       0                0       0    ...           0   \n",
       "8                     0       0                0       0    ...           0   \n",
       "9                     0       0                0       0    ...           0   \n",
       "10                    0       0                0       0    ...           0   \n",
       "\n",
       "             SEASONAL  SERVICE DELI  SHEER HOSIERY  SHOES  \\\n",
       "VisitNumber                                                 \n",
       "5                   0             0              0      0   \n",
       "7                   0             0              0      1   \n",
       "8                   0             0              0      0   \n",
       "9                   0             0              0      0   \n",
       "10                  0             0              0      0   \n",
       "\n",
       "             SLEEPWEAR/FOUNDATIONS  SPORTING GOODS  SWIMWEAR/OUTERWEAR  TOYS  \\\n",
       "VisitNumber                                                                    \n",
       "5                                0               0                   0     0   \n",
       "7                                0               0                   0     0   \n",
       "8                                0               0                   0     0   \n",
       "9                                0               0                   0     0   \n",
       "10                               0               0                   0     0   \n",
       "\n",
       "             WIRELESS  \n",
       "VisitNumber            \n",
       "5                   0  \n",
       "7                   0  \n",
       "8                   0  \n",
       "9                   0  \n",
       "10                  0  \n",
       "\n",
       "[5 rows x 72 columns]"
      ]
     },
     "execution_count": 107,
     "metadata": {},
     "output_type": "execute_result"
    }
   ],
   "source": [
    "data1.head()"
   ]
  },
  {
   "cell_type": "code",
   "execution_count": null,
   "metadata": {
    "collapsed": true
   },
   "outputs": [],
   "source": []
  }
 ],
 "metadata": {
  "kernelspec": {
   "display_name": "Python 3",
   "language": "python",
   "name": "python3"
  },
  "language_info": {
   "codemirror_mode": {
    "name": "ipython",
    "version": 3
   },
   "file_extension": ".py",
   "mimetype": "text/x-python",
   "name": "python",
   "nbconvert_exporter": "python",
   "pygments_lexer": "ipython3",
   "version": "3.5.0"
  }
 },
 "nbformat": 4,
 "nbformat_minor": 0
}
